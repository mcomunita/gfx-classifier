{
 "cells": [
  {
   "cell_type": "code",
   "execution_count": 1,
   "metadata": {},
   "outputs": [],
   "source": [
    "import numpy as np\n",
    "\n",
    "import librosa\n",
    "import librosa.display\n",
    "\n",
    "import soundfile\n",
    "\n",
    "import matplotlib.pyplot as plt\n",
    "\n",
    "import os"
   ]
  },
  {
   "source": [
    "# Process Monophonic samples\n",
    "\n",
    "- remove noise at the beginning by onset detection\n",
    "- normalise to -6dBFS"
   ],
   "cell_type": "markdown",
   "metadata": {}
  },
  {
   "cell_type": "code",
   "execution_count": 2,
   "metadata": {},
   "outputs": [],
   "source": [
    "nofx_path = '/Volumes/STEVE/DATASETS/IDMT-SMT-AUDIO-EFFECTS/Gitarre monophon/Samples/NoFX'\n",
    "out_path = '/Volumes/Macintosh HD/DATASETS/NoFX_mono_preprocessed'\n",
    "\n",
    "# constants\n",
    "_sr = 44100\n",
    "_n_fft = 2048\n",
    "_win_length = _n_fft\n",
    "_hop_length = int(_win_length/4)\n",
    "\n",
    "# fade in vector\n",
    "_fade_length_in_sec = 0.02\n",
    "_fade_length_in_samples = int(_fade_length_in_sec * _sr)\n",
    "fade_amp = np.linspace(0, 1, num=_fade_length_in_samples, endpoint=True, retstep=False, dtype=None, axis=0)"
   ]
  },
  {
   "cell_type": "code",
   "execution_count": 3,
   "metadata": {},
   "outputs": [
    {
     "output_type": "stream",
     "name": "stdout",
     "text": [
      "DONE!\n"
     ]
    }
   ],
   "source": [
    "if not os.path.exists('%s' % out_path):\n",
    "    os.makedirs('%s' % out_path)\n",
    "\n",
    "for file in os.listdir(nofx_path):\n",
    "    if not(file.startswith(\"._\")) and file.endswith(\".wav\"):\n",
    "        filename = file[:-4]\n",
    "        # open file\n",
    "        audio_file, _ = librosa.load(\"%s/%s.wav\" % (nofx_path, filename), \n",
    "                                     sr=_sr, \n",
    "                                     mono=True,\n",
    "                                     offset=0.0, \n",
    "                                     duration=None, \n",
    "                                     dtype=np.float32, \n",
    "                                     res_type='kaiser_best')\n",
    "        # clean file:\n",
    "            # envelope\n",
    "        oenv_raw = librosa.onset.onset_strength(y=audio_file, sr=_sr)\n",
    "            # onset without backtrack\n",
    "        onset_raw = librosa.onset.onset_detect(onset_envelope=oenv_raw, backtrack=False)\n",
    "            # get main onset index\n",
    "        main_onset_idx = np.argmax(oenv_raw[onset_raw])\n",
    "            # backtrack onsets\n",
    "        onset_raw_bt = librosa.onset.onset_backtrack(onset_raw, oenv_raw)\n",
    "            # onset times\n",
    "        ons_times_in_samples = librosa.frames_to_samples(onset_raw_bt, hop_length=_hop_length, n_fft=None)\n",
    "            # apply fade in\n",
    "        audio_file_proc = np.concatenate((\n",
    "            audio_file[0:ons_times_in_samples[main_onset_idx]-_fade_length_in_samples] * 0,\n",
    "            audio_file[ons_times_in_samples[main_onset_idx]-_fade_length_in_samples:ons_times_in_samples[main_onset_idx]] * fade_amp,\n",
    "            audio_file[ons_times_in_samples[main_onset_idx]:]))\n",
    "        # normalise to -6dBFS\n",
    "        audio_file_proc = audio_file_proc / (2 * max(abs(audio_file_proc)))\n",
    "        # write file\n",
    "        soundfile.write(file=\"%s/%s.wav\" % (out_path, filename), \n",
    "                        data=audio_file_proc, \n",
    "                        samplerate=_sr, \n",
    "                        subtype='PCM_16')\n",
    "print('DONE!')"
   ]
  },
  {
   "source": [
    "# Process Polyponic samples\n",
    "\n",
    "- normalise to -6dBFS"
   ],
   "cell_type": "markdown",
   "metadata": {}
  },
  {
   "cell_type": "code",
   "execution_count": 5,
   "metadata": {},
   "outputs": [],
   "source": [
    "nofx_path = '/Volumes/STEVE/DATASETS/IDMT-SMT-AUDIO-EFFECTS/Gitarre polyphon/Samples/NoFX'\n",
    "out_path = '/Volumes/Macintosh HD/DATASETS/NoFX_poly_preprocessed'\n",
    "\n",
    "# constants\n",
    "_sr = 44100\n",
    "_n_fft = 2048\n",
    "_win_length = _n_fft\n",
    "_hop_length = int(_win_length/4)"
   ]
  },
  {
   "cell_type": "code",
   "execution_count": 6,
   "metadata": {},
   "outputs": [
    {
     "output_type": "stream",
     "name": "stdout",
     "text": [
      "DONE!\n"
     ]
    }
   ],
   "source": [
    "if not os.path.exists('%s' % out_path):\n",
    "    os.makedirs('%s' % out_path)\n",
    "\n",
    "for file in os.listdir(nofx_path):\n",
    "    if not(file.startswith(\"._\")) and file.endswith(\".wav\"):\n",
    "        filename = file[:-4]\n",
    "        # open file\n",
    "        audio_file, _ = librosa.load(\"%s/%s.wav\" % (nofx_path, filename), \n",
    "                                     sr=_sr, \n",
    "                                     mono=True,\n",
    "                                     offset=0.0, \n",
    "                                     duration=None, \n",
    "                                     dtype=np.float32, \n",
    "                                     res_type='kaiser_best')\n",
    "        # normalise to -6dBFS\n",
    "        audio_file_proc = audio_file / (2 * max(abs(audio_file)))\n",
    "        # write file\n",
    "        soundfile.write(file=\"%s/%s.wav\" % (out_path, filename), \n",
    "                        data=audio_file_proc, \n",
    "                        samplerate=_sr, \n",
    "                        subtype='PCM_16')\n",
    "print('DONE!')"
   ]
  },
  {
   "cell_type": "code",
   "execution_count": null,
   "metadata": {},
   "outputs": [],
   "source": []
  }
 ],
 "metadata": {
  "kernelspec": {
   "display_name": "Python 3",
   "language": "python",
   "name": "python3"
  },
  "language_info": {
   "codemirror_mode": {
    "name": "ipython",
    "version": 3
   },
   "file_extension": ".py",
   "mimetype": "text/x-python",
   "name": "python",
   "nbconvert_exporter": "python",
   "pygments_lexer": "ipython3",
   "version": "3.8.5-final"
  }
 },
 "nbformat": 4,
 "nbformat_minor": 4
}