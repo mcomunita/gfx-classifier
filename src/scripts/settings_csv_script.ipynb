{
 "cells": [
  {
   "cell_type": "markdown",
   "metadata": {},
   "source": [
    "## Script to preprocess settings.csv files"
   ]
  },
  {
   "cell_type": "code",
   "execution_count": 1,
   "metadata": {},
   "outputs": [],
   "source": [
    "import csv"
   ]
  },
  {
   "cell_type": "code",
   "execution_count": 20,
   "metadata": {},
   "outputs": [],
   "source": [
    "root = '/Volumes/Macintosh HD/DATASETS/GUITAR-FX/Mono_Random_Bg/'\n",
    "# root = '/Volumes/Macintosh HD/DATASETS/GUITAR-FX/Poly_Random/'"
   ]
  },
  {
   "cell_type": "code",
   "execution_count": 21,
   "metadata": {},
   "outputs": [],
   "source": [
    "# 808\n",
    "fx_name=\"808\"\n",
    "settings = []\n",
    "with open(\"%s/%s/%s\" % (root, fx_name, \"settings.csv\"), mode='r') as file:\n",
    "    rdr = csv.reader(file)\n",
    "    for row in rdr:\n",
    "        settings.append(row)\n",
    "settings = settings[1:]\n",
    "\n",
    "with open(\"%s/%s/%s\" % (root, fx_name, \"proc_settings.csv\"), mode='w') as file:\n",
    "    wrt = csv.writer(file)\n",
    "    wrt.writerow(['filename','fx', 'level', 'gain', 'tone/eq1', 'tone/eq2', 'tone/eq3', 'tone/eq4'])\n",
    "    for row in settings:\n",
    "        filename, pedal_model, overdrive, level, tone = row\n",
    "        level = float(level)/100\n",
    "        gain = float(overdrive)/100\n",
    "        eq1 = float(tone)/100\n",
    "        wrt.writerow([filename, fx_name, level, gain, eq1])"
   ]
  },
  {
   "cell_type": "code",
   "execution_count": 22,
   "metadata": {},
   "outputs": [],
   "source": [
    "# TS9\n",
    "fx_name=\"TS9\"\n",
    "settings = []\n",
    "with open(\"%s/%s/%s\" % (root, fx_name, \"settings.csv\"), mode='r') as file:\n",
    "    rdr = csv.reader(file)\n",
    "    for row in rdr:\n",
    "        settings.append(row)\n",
    "settings = settings[1:]\n",
    "\n",
    "with open(\"%s/%s/%s\" % (root, fx_name, \"proc_settings.csv\"), mode='w') as file:\n",
    "    wrt = csv.writer(file)\n",
    "    wrt.writerow(['filename','fx', 'level', 'gain', 'tone/eq1', 'tone/eq2', 'tone/eq3', 'tone/eq4'])\n",
    "    for row in settings:\n",
    "        filename, pedal_model, drive, level, tone = row\n",
    "        level = float(level)/100\n",
    "        gain = float(drive)/100\n",
    "        eq1 = float(tone)/100\n",
    "        wrt.writerow([filename, fx_name, level, gain, eq1])"
   ]
  },
  {
   "cell_type": "code",
   "execution_count": 23,
   "metadata": {},
   "outputs": [],
   "source": [
    "# BD2\n",
    "fx_name=\"BD2\"\n",
    "settings = []\n",
    "with open(\"%s/%s/%s\" % (root, fx_name, \"settings.csv\"), mode='r') as file:\n",
    "    rdr = csv.reader(file)\n",
    "    for row in rdr:\n",
    "        settings.append(row)\n",
    "settings = settings[1:]\n",
    "\n",
    "with open(\"%s/%s/%s\" % (root, fx_name, \"proc_settings.csv\"), mode='w') as file:\n",
    "    wrt = csv.writer(file)\n",
    "    wrt.writerow(['filename','fx', 'level', 'gain', 'tone/eq1', 'tone/eq2', 'tone/eq3', 'tone/eq4'])\n",
    "    for row in settings:\n",
    "        filename, pedal_model, gain, level, tone = row\n",
    "        level = float(level)/100\n",
    "        gain = float(gain)/100\n",
    "        eq1 = float(tone)/100\n",
    "        wrt.writerow([filename, fx_name, level, gain, eq1])"
   ]
  },
  {
   "cell_type": "code",
   "execution_count": 24,
   "metadata": {},
   "outputs": [],
   "source": [
    "# OD1\n",
    "fx_name=\"OD1\"\n",
    "settings = []\n",
    "with open(\"%s/%s/%s\" % (root, fx_name, \"settings.csv\"), mode='r') as file:\n",
    "    rdr = csv.reader(file)\n",
    "    for row in rdr:\n",
    "        settings.append(row)\n",
    "settings = settings[1:]\n",
    "\n",
    "with open(\"%s/%s/%s\" % (root, fx_name, \"proc_settings.csv\"), mode='w') as file:\n",
    "    wrt = csv.writer(file)\n",
    "    wrt.writerow(['filename','fx', 'level', 'gain', 'tone/eq1', 'tone/eq2', 'tone/eq3', 'tone/eq4'])\n",
    "    for row in settings:\n",
    "        filename, pedal_model, drive, level = row\n",
    "        level = float(level)/100\n",
    "        gain = float(drive)/100\n",
    "        wrt.writerow([filename, fx_name, level, gain])"
   ]
  },
  {
   "cell_type": "code",
   "execution_count": 25,
   "metadata": {},
   "outputs": [],
   "source": [
    "# SD1\n",
    "fx_name=\"SD1\"\n",
    "settings = []\n",
    "with open(\"%s/%s/%s\" % (root, fx_name, \"settings.csv\"), mode='r') as file:\n",
    "    rdr = csv.reader(file)\n",
    "    for row in rdr:\n",
    "        settings.append(row)\n",
    "settings = settings[1:]\n",
    "\n",
    "with open(\"%s/%s/%s\" % (root, fx_name, \"proc_settings.csv\"), mode='w') as file:\n",
    "    wrt = csv.writer(file)\n",
    "    wrt.writerow(['filename','fx', 'level', 'gain', 'tone/eq1', 'tone/eq2', 'tone/eq3', 'tone/eq4'])\n",
    "    for row in settings:\n",
    "        filename, pedal_model, drive, level, tone = row\n",
    "        level = float(level)/100\n",
    "        gain = float(drive)/100\n",
    "        eq1 = float(tone)/100\n",
    "        wrt.writerow([filename, fx_name, level, gain, eq1])"
   ]
  },
  {
   "cell_type": "code",
   "execution_count": 26,
   "metadata": {},
   "outputs": [],
   "source": [
    "# DS1\n",
    "fx_name=\"DS1\"\n",
    "settings = []\n",
    "with open(\"%s/%s/%s\" % (root, fx_name, \"settings.csv\"), mode='r') as file:\n",
    "    rdr = csv.reader(file)\n",
    "    for row in rdr:\n",
    "        settings.append(row)\n",
    "settings = settings[1:]\n",
    "\n",
    "with open(\"%s/%s/%s\" % (root, fx_name, \"proc_settings.csv\"), mode='w') as file:\n",
    "    wrt = csv.writer(file)\n",
    "    wrt.writerow(['filename','fx', 'level', 'gain', 'tone/eq1', 'tone/eq2', 'tone/eq3', 'tone/eq4'])\n",
    "    for row in settings:\n",
    "        filename, pedal_model, dist, level, tone = row\n",
    "        level = float(level)/100\n",
    "        gain = float(dist)/100\n",
    "        eq1 = float(tone)/100\n",
    "        wrt.writerow([filename, fx_name, level, gain, eq1])"
   ]
  },
  {
   "cell_type": "code",
   "execution_count": 27,
   "metadata": {},
   "outputs": [],
   "source": [
    "# RAT\n",
    "fx_name=\"RAT\"\n",
    "settings = []\n",
    "with open(\"%s/%s/%s\" % (root, fx_name, \"settings.csv\"), mode='r') as file:\n",
    "    rdr = csv.reader(file)\n",
    "    for row in rdr:\n",
    "        settings.append(row)\n",
    "settings = settings[1:]\n",
    "\n",
    "with open(\"%s/%s/%s\" % (root, fx_name, \"proc_settings.csv\"), mode='w') as file:\n",
    "    wrt = csv.writer(file)\n",
    "    wrt.writerow(['filename','fx', 'level', 'gain', 'tone/eq1', 'tone/eq2', 'tone/eq3', 'tone/eq4'])\n",
    "    for row in settings:\n",
    "        filename, pedal_model, distortion, volume, filtr = row\n",
    "        level = float(volume)/100\n",
    "        gain = float(distortion)/100\n",
    "        eq1 = float(filtr)/100\n",
    "        wrt.writerow([filename, fx_name, level, gain, eq1])"
   ]
  },
  {
   "cell_type": "code",
   "execution_count": 28,
   "metadata": {},
   "outputs": [],
   "source": [
    "# DPL\n",
    "fx_name=\"DPL\"\n",
    "settings = []\n",
    "with open(\"%s/%s/%s\" % (root, fx_name, \"settings.csv\"), mode='r') as file:\n",
    "    rdr = csv.reader(file)\n",
    "    for row in rdr:\n",
    "        settings.append(row)\n",
    "settings = settings[1:]\n",
    "\n",
    "with open(\"%s/%s/%s\" % (root, fx_name, \"proc_settings.csv\"), mode='w') as file:\n",
    "    wrt = csv.writer(file)\n",
    "    wrt.writerow(['filename','fx', 'level', 'gain', 'tone/eq1', 'tone/eq2', 'tone/eq3', 'tone/eq4'])\n",
    "    for row in settings:\n",
    "        filename, pedal_model, distortion, output = row\n",
    "        level = float(output)/100\n",
    "        gain = float(distortion)/100\n",
    "        wrt.writerow([filename, fx_name, level, gain])"
   ]
  },
  {
   "cell_type": "code",
   "execution_count": 29,
   "metadata": {},
   "outputs": [],
   "source": [
    "# MT2\n",
    "fx_name=\"MT2\"\n",
    "settings = []\n",
    "with open(\"%s/%s/%s\" % (root, fx_name, \"settings.csv\"), mode='r') as file:\n",
    "    rdr = csv.reader(file)\n",
    "    for row in rdr:\n",
    "        settings.append(row)\n",
    "settings = settings[1:]\n",
    "\n",
    "with open(\"%s/%s/%s\" % (root, fx_name, \"proc_settings.csv\"), mode='w') as file:\n",
    "    wrt = csv.writer(file)\n",
    "    wrt.writerow(['filename','fx', 'level', 'gain', 'tone/eq1', 'tone/eq2', 'tone/eq3', 'tone/eq4'])\n",
    "    for row in settings:\n",
    "        filename, pedal_model, gain, level, bass, treble, mid_level, mid_frequency = row\n",
    "        level = float(level)/100\n",
    "        gain = float(gain)/100\n",
    "        eq1 = float(bass)/100\n",
    "        eq2 = float(treble)/100\n",
    "        eq3 = float(mid_level)/100\n",
    "        eq4 = float(mid_frequency)/100\n",
    "        wrt.writerow([filename, fx_name, level, gain, eq1, eq2, eq3, eq4])"
   ]
  },
  {
   "cell_type": "code",
   "execution_count": 30,
   "metadata": {},
   "outputs": [],
   "source": [
    "# FFC\n",
    "fx_name=\"FFC\"\n",
    "settings = []\n",
    "with open(\"%s/%s/%s\" % (root, fx_name, \"settings.csv\"), mode='r') as file:\n",
    "    rdr = csv.reader(file)\n",
    "    for row in rdr:\n",
    "        settings.append(row)\n",
    "settings = settings[1:]\n",
    "\n",
    "with open(\"%s/%s/%s\" % (root, fx_name, \"proc_settings.csv\"), mode='w') as file:\n",
    "    wrt = csv.writer(file)\n",
    "    wrt.writerow(['filename','fx', 'level', 'gain', 'tone/eq1', 'tone/eq2', 'tone/eq3', 'tone/eq4'])\n",
    "    for row in settings:\n",
    "        filename, pedal_model, fuzz, volume = row\n",
    "        level = float(volume)/100\n",
    "        gain = float(fuzz)/100\n",
    "        wrt.writerow([filename, fx_name, level, gain])"
   ]
  },
  {
   "cell_type": "code",
   "execution_count": 31,
   "metadata": {},
   "outputs": [],
   "source": [
    "# BMF\n",
    "fx_name=\"BMF\"\n",
    "settings = []\n",
    "with open(\"%s/%s/%s\" % (root, fx_name, \"settings.csv\"), mode='r') as file:\n",
    "    rdr = csv.reader(file)\n",
    "    for row in rdr:\n",
    "        settings.append(row)\n",
    "settings = settings[1:]\n",
    "\n",
    "with open(\"%s/%s/%s\" % (root, fx_name, \"proc_settings.csv\"), mode='w') as file:\n",
    "    wrt = csv.writer(file)\n",
    "    wrt.writerow(['filename','fx', 'level', 'gain', 'tone/eq1', 'tone/eq2', 'tone/eq3', 'tone/eq4'])\n",
    "    for row in settings:\n",
    "        filename, pedal_model, sustain, volume, tone = row\n",
    "        level = float(volume)/100\n",
    "        gain = float(sustain)/100\n",
    "        eq1 = float(tone)/100\n",
    "        wrt.writerow([filename, fx_name, level, gain, eq1])"
   ]
  },
  {
   "cell_type": "code",
   "execution_count": 32,
   "metadata": {},
   "outputs": [],
   "source": [
    "# MGS\n",
    "fx_name=\"MGS\"\n",
    "settings = []\n",
    "with open(\"%s/%s/%s\" % (root, fx_name, \"settings.csv\"), mode='r') as file:\n",
    "    rdr = csv.reader(file)\n",
    "    for row in rdr:\n",
    "        settings.append(row)\n",
    "settings = settings[1:]\n",
    "\n",
    "with open(\"%s/%s/%s\" % (root, fx_name, \"proc_settings.csv\"), mode='w') as file:\n",
    "    wrt = csv.writer(file)\n",
    "    wrt.writerow(['filename','fx', 'level', 'gain', 'tone/eq1', 'tone/eq2', 'tone/eq3', 'tone/eq4'])\n",
    "    for row in settings:\n",
    "        filename, global_input_level, global_output_level, drive, tone, level = row\n",
    "        level = float(level)\n",
    "        gain = float(drive)\n",
    "        eq1 = float(tone)\n",
    "        wrt.writerow([filename, fx_name, level, gain, eq1])"
   ]
  },
  {
   "cell_type": "code",
   "execution_count": 33,
   "metadata": {},
   "outputs": [],
   "source": [
    "# RBM\n",
    "fx_name=\"RBM\"\n",
    "settings = []\n",
    "with open(\"%s/%s/%s\" % (root, fx_name, \"settings.csv\"), mode='r') as file:\n",
    "    rdr = csv.reader(file)\n",
    "    for row in rdr:\n",
    "        settings.append(row)\n",
    "settings = settings[1:]\n",
    "\n",
    "with open(\"%s/%s/%s\" % (root, fx_name, \"proc_settings.csv\"), mode='w') as file:\n",
    "    wrt = csv.writer(file)\n",
    "    wrt.writerow(['filename','fx', 'level', 'gain', 'tone/eq1', 'tone/eq2', 'tone/eq3', 'tone/eq4'])\n",
    "    for row in settings:\n",
    "        filename, volume, tone, sustain = row\n",
    "        level = float(1.0)\n",
    "        gain = float(sustain)\n",
    "        eq1 = float(tone)\n",
    "        wrt.writerow([filename, fx_name, level, sustain, eq1])"
   ]
  },
  {
   "cell_type": "code",
   "execution_count": 34,
   "metadata": {},
   "outputs": [],
   "source": [
    "# VTB\n",
    "fx_name=\"VTB\"\n",
    "settings = []\n",
    "with open(\"%s/%s/%s\" % (root, fx_name, \"settings.csv\"), mode='r') as file:\n",
    "    rdr = csv.reader(file)\n",
    "    for row in rdr:\n",
    "        settings.append(row)\n",
    "settings = settings[1:]\n",
    "\n",
    "with open(\"%s/%s/%s\" % (root, fx_name, \"proc_settings.csv\"), mode='w') as file:\n",
    "    wrt = csv.writer(file)\n",
    "    wrt.writerow(['filename','fx', 'level', 'gain', 'tone/eq1', 'tone/eq2', 'tone/eq3', 'tone/eq4'])\n",
    "    for row in settings:\n",
    "        filename, volume, filt = row\n",
    "        level = float(1.0)\n",
    "        gain = float(filt)\n",
    "        wrt.writerow([filename,fx_name, level, gain])"
   ]
  },
  {
   "cell_type": "code",
   "execution_count": null,
   "metadata": {},
   "outputs": [],
   "source": []
  }
 ],
 "metadata": {
  "kernelspec": {
   "name": "Python 3.8.5 64-bit ('venv': venv)",
   "display_name": "Python 3.8.5 64-bit ('venv': venv)",
   "metadata": {
    "interpreter": {
     "hash": "bc25b8d6952fb52122bdc10bef13432d7054ae7bc004fe42fcb8ecbefb75ba9e"
    }
   }
  },
  "language_info": {
   "codemirror_mode": {
    "name": "ipython",
    "version": 3
   },
   "file_extension": ".py",
   "mimetype": "text/x-python",
   "name": "python",
   "nbconvert_exporter": "python",
   "pygments_lexer": "ipython3",
   "version": "3.8.5-final"
  }
 },
 "nbformat": 4,
 "nbformat_minor": 4
}