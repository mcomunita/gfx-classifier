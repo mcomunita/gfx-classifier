{
 "cells": [
  {
   "cell_type": "markdown",
   "metadata": {},
   "source": [
    "### Import"
   ]
  },
  {
   "cell_type": "code",
   "execution_count": 1,
   "metadata": {},
   "outputs": [],
   "source": [
    "import torch\n",
    "import torch.optim as optim\n",
    "import torchvision.transforms as transforms\n",
    "import torch.nn as nn\n",
    "import torch.nn.functional as F\n",
    "\n",
    "import numpy as np\n",
    "import time\n",
    "import matplotlib\n",
    "import matplotlib.pyplot as plt\n",
    "\n",
    "import dataset.dataset as dataset\n",
    "import datasplit.datasplit as datasplit\n",
    "import model.models as models\n",
    "import trainer.trainer as trainer\n",
    "import utils.utils as utils"
   ]
  },
  {
   "cell_type": "markdown",
   "metadata": {},
   "source": [
    "### GPU"
   ]
  },
  {
   "cell_type": "code",
   "execution_count": 3,
   "metadata": {},
   "outputs": [],
   "source": [
    "torch.cuda.device_count()\n",
    "\n",
    "cuda0 = torch.device('cuda:0')\n",
    "cuda1 = torch.device('cuda:1')\n",
    "cuda2 = torch.device('cuda:2')\n",
    "cuda3 = torch.device('cuda:3')\n",
    "\n",
    "device = torch.device(cuda0 if torch.cuda.is_available() else \"cpu\")"
   ]
  },
  {
   "cell_type": "markdown",
   "metadata": {},
   "source": [
    "### INIT"
   ]
  },
  {
   "cell_type": "code",
   "execution_count": 4,
   "metadata": {},
   "outputs": [],
   "source": [
    "# transforms\n",
    "transform = transforms.Compose([\n",
    "        transforms.ToTensor(),\n",
    "    ])\n",
    "\n",
    "# dataset\n",
    "root = '/Volumes/Macintosh HD/DATASETS/GUITAR-FX/Mono'\n",
    "excl_folders = ['NoFX_mono', 'NoFX_mono_preprocessed']\n",
    "spectra_folder= 'mel_22050_1024_512'\n",
    "proc_settings_csv = 'proc_settings.csv'\n",
    "max_num_settings=6\n",
    "\n",
    "dataset = dataset.FxDataset(root=root,\n",
    "                            excl_folders=excl_folders, \n",
    "                            spectra_folder=spectra_folder, \n",
    "                            processed_settings_csv=proc_settings_csv,\n",
    "                            max_num_settings=max_num_settings,\n",
    "                            transform=transform)\n",
    "dataset.init_dataset()\n",
    "# dataset.generate_mel()\n",
    "\n",
    "# split\n",
    "split = datasplit.DataSplit(dataset, shuffle=True)\n",
    "# loaders\n",
    "train_loader, val_loader, test_loader = split.get_split(batch_size=100)"
   ]
  },
  {
   "cell_type": "code",
   "execution_count": 5,
   "metadata": {},
   "outputs": [
    {
     "output_type": "execute_result",
     "data": {
      "text/plain": "163488"
     },
     "metadata": {},
     "execution_count": 5
    }
   ],
   "source": [
    "len(dataset)"
   ]
  },
  {
   "cell_type": "markdown",
   "metadata": {},
   "source": [
    "### TRAIN MultiNET"
   ]
  },
  {
   "cell_type": "code",
   "execution_count": 6,
   "metadata": {},
   "outputs": [],
   "source": [
    "# model\n",
    "net = models.MultiNet().to(device)\n",
    "# optimizer\n",
    "optimizer = optim.Adam(net.parameters(), lr=0.001)\n",
    "# loss function\n",
    "loss_func_fx = nn.CrossEntropyLoss()\n",
    "loss_func_set = nn.L1Loss()"
   ]
  },
  {
   "cell_type": "code",
   "execution_count": 7,
   "metadata": {
    "tags": []
   },
   "outputs": [
    {
     "output_type": "stream",
     "name": "stdout",
     "text": "MultiNet(\n  (conv1): Conv2d(1, 6, kernel_size=(5, 5), stride=(1, 1))\n  (conv2): Conv2d(6, 12, kernel_size=(5, 5), stride=(1, 1))\n  (fc1_a): Linear(in_features=6264, out_features=120, bias=True)\n  (fc2_a): Linear(in_features=120, out_features=60, bias=True)\n  (out_a): Linear(in_features=60, out_features=14, bias=True)\n  (fc1_b): Linear(in_features=6264, out_features=120, bias=True)\n  (fc2_b): Linear(in_features=120, out_features=60, bias=True)\n  (out_b): Linear(in_features=60, out_features=6, bias=True)\n)\n"
    }
   ],
   "source": [
    "print(net)"
   ]
  },
  {
   "cell_type": "code",
   "execution_count": 8,
   "metadata": {
    "tags": [
     "outputPrepend"
    ]
   },
   "outputs": [
    {
     "output_type": "stream",
     "name": "stdout",
     "text": "00/117711 (96%)]\tTotal Loss: 185.7705\tAvg Loss: 0.0016\nTrain Epoch: 47\t[114000/117711 (97%)]\tTotal Loss: 187.5006\tAvg Loss: 0.0016\nTrain Epoch: 47\t[115000/117711 (98%)]\tTotal Loss: 189.1175\tAvg Loss: 0.0016\nTrain Epoch: 47\t[116000/117711 (98%)]\tTotal Loss: 190.7027\tAvg Loss: 0.0016\nTrain Epoch: 47\t[117000/117711 (99%)]\tTotal Loss: 192.3943\tAvg Loss: 0.0016\n====> Epoch: 47\tTotal Loss: 193.5080\t Avg Loss: 0.0016\t Fx Loss: 153.6135\t Set Loss: 39.8945\n\t\tCorrect: 57954/117711\tFx Correct: 107643/117711\tSet Correct: 62188/117711\n\t\tPercentage Correct: 49.23\tPercentage Fx Correct: 91.45\tPercentage Set Correct: 52.83\n====> Val Loss: 29.0056\t Avg Loss: 0.0022\t Fx Loss: 23.7400\t Set Loss: 5.2656\n\t\tCorrect: 5510/13079\tFx Correct: 11851/13079\tSet Correct: 5951/13079\n\t\tPercentage Correct: 42.13\tPercentage Fx Correct: 90.61\tPercentage Set Correct: 45.50\n====> Test Loss: 73.0557\t Avg Loss: 0.0022\t Fx Loss: 59.9561\t Set Loss: 13.0996\n\t\tCorrect: 13796/32698\tFx Correct: 29516/32698\tSet Correct: 14972/32698\n\t\tPercentage Correct: 42.19\tPercentage Fx Correct: 90.27\tPercentage Set Correct: 45.79\nTrain Epoch: 48\t[1000/117711 (1%)]\tTotal Loss: 1.7798\tAvg Loss: 0.0018\nTrain Epoch: 48\t[2000/117711 (2%)]\tTotal Loss: 3.3508\tAvg Loss: 0.0017\nTrain Epoch: 48\t[3000/117711 (3%)]\tTotal Loss: 4.9576\tAvg Loss: 0.0017\nTrain Epoch: 48\t[4000/117711 (3%)]\tTotal Loss: 6.6672\tAvg Loss: 0.0017\nTrain Epoch: 48\t[5000/117711 (4%)]\tTotal Loss: 8.1743\tAvg Loss: 0.0016\nTrain Epoch: 48\t[6000/117711 (5%)]\tTotal Loss: 9.8206\tAvg Loss: 0.0016\nTrain Epoch: 48\t[7000/117711 (6%)]\tTotal Loss: 11.3669\tAvg Loss: 0.0016\nTrain Epoch: 48\t[8000/117711 (7%)]\tTotal Loss: 12.7448\tAvg Loss: 0.0016\nTrain Epoch: 48\t[9000/117711 (8%)]\tTotal Loss: 14.2603\tAvg Loss: 0.0016\nTrain Epoch: 48\t[10000/117711 (8%)]\tTotal Loss: 15.8418\tAvg Loss: 0.0016\nTrain Epoch: 48\t[11000/117711 (9%)]\tTotal Loss: 17.3893\tAvg Loss: 0.0016\nTrain Epoch: 48\t[12000/117711 (10%)]\tTotal Loss: 18.9980\tAvg Loss: 0.0016\nTrain Epoch: 48\t[13000/117711 (11%)]\tTotal Loss: 20.6091\tAvg Loss: 0.0016\nTrain Epoch: 48\t[14000/117711 (12%)]\tTotal Loss: 22.0310\tAvg Loss: 0.0016\nTrain Epoch: 48\t[15000/117711 (13%)]\tTotal Loss: 23.6108\tAvg Loss: 0.0016\nTrain Epoch: 48\t[16000/117711 (14%)]\tTotal Loss: 25.3315\tAvg Loss: 0.0016\nTrain Epoch: 48\t[17000/117711 (14%)]\tTotal Loss: 26.8095\tAvg Loss: 0.0016\nTrain Epoch: 48\t[18000/117711 (15%)]\tTotal Loss: 28.4966\tAvg Loss: 0.0016\nTrain Epoch: 48\t[19000/117711 (16%)]\tTotal Loss: 30.2133\tAvg Loss: 0.0016\nTrain Epoch: 48\t[20000/117711 (17%)]\tTotal Loss: 32.2041\tAvg Loss: 0.0016\nTrain Epoch: 48\t[21000/117711 (18%)]\tTotal Loss: 34.2310\tAvg Loss: 0.0016\nTrain Epoch: 48\t[22000/117711 (19%)]\tTotal Loss: 36.5650\tAvg Loss: 0.0017\nTrain Epoch: 48\t[23000/117711 (20%)]\tTotal Loss: 38.7118\tAvg Loss: 0.0017\nTrain Epoch: 48\t[24000/117711 (20%)]\tTotal Loss: 40.7330\tAvg Loss: 0.0017\nTrain Epoch: 48\t[25000/117711 (21%)]\tTotal Loss: 42.6072\tAvg Loss: 0.0017\nTrain Epoch: 48\t[26000/117711 (22%)]\tTotal Loss: 44.3551\tAvg Loss: 0.0017\nTrain Epoch: 48\t[27000/117711 (23%)]\tTotal Loss: 45.9028\tAvg Loss: 0.0017\nTrain Epoch: 48\t[28000/117711 (24%)]\tTotal Loss: 47.7001\tAvg Loss: 0.0017\nTrain Epoch: 48\t[29000/117711 (25%)]\tTotal Loss: 49.5199\tAvg Loss: 0.0017\nTrain Epoch: 48\t[30000/117711 (25%)]\tTotal Loss: 51.0722\tAvg Loss: 0.0017\nTrain Epoch: 48\t[31000/117711 (26%)]\tTotal Loss: 52.8693\tAvg Loss: 0.0017\nTrain Epoch: 48\t[32000/117711 (27%)]\tTotal Loss: 54.4862\tAvg Loss: 0.0017\nTrain Epoch: 48\t[33000/117711 (28%)]\tTotal Loss: 56.1675\tAvg Loss: 0.0017\nTrain Epoch: 48\t[34000/117711 (29%)]\tTotal Loss: 57.9116\tAvg Loss: 0.0017\nTrain Epoch: 48\t[35000/117711 (30%)]\tTotal Loss: 59.6869\tAvg Loss: 0.0017\nTrain Epoch: 48\t[36000/117711 (31%)]\tTotal Loss: 61.2636\tAvg Loss: 0.0017\nTrain Epoch: 48\t[37000/117711 (31%)]\tTotal Loss: 63.1541\tAvg Loss: 0.0017\nTrain Epoch: 48\t[38000/117711 (32%)]\tTotal Loss: 65.4900\tAvg Loss: 0.0017\nTrain Epoch: 48\t[39000/117711 (33%)]\tTotal Loss: 67.2702\tAvg Loss: 0.0017\nTrain Epoch: 48\t[40000/117711 (34%)]\tTotal Loss: 69.2567\tAvg Loss: 0.0017\nTrain Epoch: 48\t[41000/117711 (35%)]\tTotal Loss: 71.0775\tAvg Loss: 0.0017\nTrain Epoch: 48\t[42000/117711 (36%)]\tTotal Loss: 73.2525\tAvg Loss: 0.0017\nTrain Epoch: 48\t[43000/117711 (37%)]\tTotal Loss: 75.1819\tAvg Loss: 0.0017\nTrain Epoch: 48\t[44000/117711 (37%)]\tTotal Loss: 76.9229\tAvg Loss: 0.0017\nTrain Epoch: 48\t[45000/117711 (38%)]\tTotal Loss: 78.6047\tAvg Loss: 0.0017\nTrain Epoch: 48\t[46000/117711 (39%)]\tTotal Loss: 80.1763\tAvg Loss: 0.0017\nTrain Epoch: 48\t[47000/117711 (40%)]\tTotal Loss: 82.0700\tAvg Loss: 0.0017\nTrain Epoch: 48\t[48000/117711 (41%)]\tTotal Loss: 83.8053\tAvg Loss: 0.0017\nTrain Epoch: 48\t[49000/117711 (42%)]\tTotal Loss: 85.7608\tAvg Loss: 0.0018\nTrain Epoch: 48\t[50000/117711 (42%)]\tTotal Loss: 87.3995\tAvg Loss: 0.0017\nTrain Epoch: 48\t[51000/117711 (43%)]\tTotal Loss: 88.9982\tAvg Loss: 0.0017\nTrain Epoch: 48\t[52000/117711 (44%)]\tTotal Loss: 90.7429\tAvg Loss: 0.0017\nTrain Epoch: 48\t[53000/117711 (45%)]\tTotal Loss: 92.2240\tAvg Loss: 0.0017\nTrain Epoch: 48\t[54000/117711 (46%)]\tTotal Loss: 93.7679\tAvg Loss: 0.0017\nTrain Epoch: 48\t[55000/117711 (47%)]\tTotal Loss: 95.5033\tAvg Loss: 0.0017\nTrain Epoch: 48\t[56000/117711 (48%)]\tTotal Loss: 97.3449\tAvg Loss: 0.0017\nTrain Epoch: 48\t[57000/117711 (48%)]\tTotal Loss: 99.1344\tAvg Loss: 0.0017\nTrain Epoch: 48\t[58000/117711 (49%)]\tTotal Loss: 100.8273\tAvg Loss: 0.0017\nTrain Epoch: 48\t[59000/117711 (50%)]\tTotal Loss: 102.9945\tAvg Loss: 0.0017\nTrain Epoch: 48\t[60000/117711 (51%)]\tTotal Loss: 104.8791\tAvg Loss: 0.0017\nTrain Epoch: 48\t[61000/117711 (52%)]\tTotal Loss: 106.4591\tAvg Loss: 0.0017\nTrain Epoch: 48\t[62000/117711 (53%)]\tTotal Loss: 108.2361\tAvg Loss: 0.0017\nTrain Epoch: 48\t[63000/117711 (53%)]\tTotal Loss: 109.7290\tAvg Loss: 0.0017\nTrain Epoch: 48\t[64000/117711 (54%)]\tTotal Loss: 111.3856\tAvg Loss: 0.0017\nTrain Epoch: 48\t[65000/117711 (55%)]\tTotal Loss: 113.0459\tAvg Loss: 0.0017\nTrain Epoch: 48\t[66000/117711 (56%)]\tTotal Loss: 114.7305\tAvg Loss: 0.0017\nTrain Epoch: 48\t[67000/117711 (57%)]\tTotal Loss: 116.4139\tAvg Loss: 0.0017\nTrain Epoch: 48\t[68000/117711 (58%)]\tTotal Loss: 118.1914\tAvg Loss: 0.0017\nTrain Epoch: 48\t[69000/117711 (59%)]\tTotal Loss: 119.8133\tAvg Loss: 0.0017\nTrain Epoch: 48\t[70000/117711 (59%)]\tTotal Loss: 121.4060\tAvg Loss: 0.0017\nTrain Epoch: 48\t[71000/117711 (60%)]\tTotal Loss: 123.1726\tAvg Loss: 0.0017\nTrain Epoch: 48\t[72000/117711 (61%)]\tTotal Loss: 124.6723\tAvg Loss: 0.0017\nTrain Epoch: 48\t[73000/117711 (62%)]\tTotal Loss: 126.4109\tAvg Loss: 0.0017\nTrain Epoch: 48\t[74000/117711 (63%)]\tTotal Loss: 127.9648\tAvg Loss: 0.0017\nTrain Epoch: 48\t[75000/117711 (64%)]\tTotal Loss: 129.4004\tAvg Loss: 0.0017\nTrain Epoch: 48\t[76000/117711 (65%)]\tTotal Loss: 131.0136\tAvg Loss: 0.0017\nTrain Epoch: 48\t[77000/117711 (65%)]\tTotal Loss: 132.7272\tAvg Loss: 0.0017\nTrain Epoch: 48\t[78000/117711 (66%)]\tTotal Loss: 134.2468\tAvg Loss: 0.0017\nTrain Epoch: 48\t[79000/117711 (67%)]\tTotal Loss: 135.9689\tAvg Loss: 0.0017\nTrain Epoch: 48\t[80000/117711 (68%)]\tTotal Loss: 137.6712\tAvg Loss: 0.0017\nTrain Epoch: 48\t[81000/117711 (69%)]\tTotal Loss: 139.3499\tAvg Loss: 0.0017\nTrain Epoch: 48\t[82000/117711 (70%)]\tTotal Loss: 140.8385\tAvg Loss: 0.0017\nTrain Epoch: 48\t[83000/117711 (70%)]\tTotal Loss: 142.6647\tAvg Loss: 0.0017\nTrain Epoch: 48\t[84000/117711 (71%)]\tTotal Loss: 144.2971\tAvg Loss: 0.0017\nTrain Epoch: 48\t[85000/117711 (72%)]\tTotal Loss: 145.9376\tAvg Loss: 0.0017\nTrain Epoch: 48\t[86000/117711 (73%)]\tTotal Loss: 147.5918\tAvg Loss: 0.0017\nTrain Epoch: 48\t[87000/117711 (74%)]\tTotal Loss: 149.1154\tAvg Loss: 0.0017\nTrain Epoch: 48\t[88000/117711 (75%)]\tTotal Loss: 150.5225\tAvg Loss: 0.0017\nTrain Epoch: 48\t[89000/117711 (76%)]\tTotal Loss: 152.1209\tAvg Loss: 0.0017\nTrain Epoch: 48\t[90000/117711 (76%)]\tTotal Loss: 153.9354\tAvg Loss: 0.0017\nTrain Epoch: 48\t[91000/117711 (77%)]\tTotal Loss: 155.5835\tAvg Loss: 0.0017\nTrain Epoch: 48\t[92000/117711 (78%)]\tTotal Loss: 157.2149\tAvg Loss: 0.0017\nTrain Epoch: 48\t[93000/117711 (79%)]\tTotal Loss: 159.3534\tAvg Loss: 0.0017\nTrain Epoch: 48\t[94000/117711 (80%)]\tTotal Loss: 161.3321\tAvg Loss: 0.0017\nTrain Epoch: 48\t[95000/117711 (81%)]\tTotal Loss: 163.2701\tAvg Loss: 0.0017\nTrain Epoch: 48\t[96000/117711 (81%)]\tTotal Loss: 165.0284\tAvg Loss: 0.0017\nTrain Epoch: 48\t[97000/117711 (82%)]\tTotal Loss: 166.7323\tAvg Loss: 0.0017\nTrain Epoch: 48\t[98000/117711 (83%)]\tTotal Loss: 168.4895\tAvg Loss: 0.0017\nTrain Epoch: 48\t[99000/117711 (84%)]\tTotal Loss: 170.3748\tAvg Loss: 0.0017\nTrain Epoch: 48\t[100000/117711 (85%)]\tTotal Loss: 172.3148\tAvg Loss: 0.0017\nTrain Epoch: 48\t[101000/117711 (86%)]\tTotal Loss: 174.3593\tAvg Loss: 0.0017\nTrain Epoch: 48\t[102000/117711 (87%)]\tTotal Loss: 176.3900\tAvg Loss: 0.0017\nTrain Epoch: 48\t[103000/117711 (87%)]\tTotal Loss: 178.2921\tAvg Loss: 0.0017\nTrain Epoch: 48\t[104000/117711 (88%)]\tTotal Loss: 180.1218\tAvg Loss: 0.0017\nTrain Epoch: 48\t[105000/117711 (89%)]\tTotal Loss: 181.5602\tAvg Loss: 0.0017\nTrain Epoch: 48\t[106000/117711 (90%)]\tTotal Loss: 183.3893\tAvg Loss: 0.0017\nTrain Epoch: 48\t[107000/117711 (91%)]\tTotal Loss: 185.0112\tAvg Loss: 0.0017\nTrain Epoch: 48\t[108000/117711 (92%)]\tTotal Loss: 186.6322\tAvg Loss: 0.0017\nTrain Epoch: 48\t[109000/117711 (93%)]\tTotal Loss: 188.4442\tAvg Loss: 0.0017\nTrain Epoch: 48\t[110000/117711 (93%)]\tTotal Loss: 190.2459\tAvg Loss: 0.0017\nTrain Epoch: 48\t[111000/117711 (94%)]\tTotal Loss: 191.8268\tAvg Loss: 0.0017\nTrain Epoch: 48\t[112000/117711 (95%)]\tTotal Loss: 193.4878\tAvg Loss: 0.0017\nTrain Epoch: 48\t[113000/117711 (96%)]\tTotal Loss: 195.3275\tAvg Loss: 0.0017\nTrain Epoch: 48\t[114000/117711 (97%)]\tTotal Loss: 197.0159\tAvg Loss: 0.0017\nTrain Epoch: 48\t[115000/117711 (98%)]\tTotal Loss: 198.7471\tAvg Loss: 0.0017\nTrain Epoch: 48\t[116000/117711 (98%)]\tTotal Loss: 200.5250\tAvg Loss: 0.0017\nTrain Epoch: 48\t[117000/117711 (99%)]\tTotal Loss: 202.9427\tAvg Loss: 0.0017\n====> Epoch: 48\tTotal Loss: 203.9578\t Avg Loss: 0.0017\t Fx Loss: 163.0245\t Set Loss: 40.9333\n\t\tCorrect: 56709/117711\tFx Correct: 107334/117711\tSet Correct: 60926/117711\n\t\tPercentage Correct: 48.18\tPercentage Fx Correct: 91.18\tPercentage Set Correct: 51.76\n====> Val Loss: 30.3962\t Avg Loss: 0.0023\t Fx Loss: 24.6781\t Set Loss: 5.7182\n\t\tCorrect: 5193/13079\tFx Correct: 11759/13079\tSet Correct: 5682/13079\n\t\tPercentage Correct: 39.70\tPercentage Fx Correct: 89.91\tPercentage Set Correct: 43.44\n====> Test Loss: 79.4948\t Avg Loss: 0.0024\t Fx Loss: 65.0004\t Set Loss: 14.4943\n\t\tCorrect: 12966/32698\tFx Correct: 29332/32698\tSet Correct: 14096/32698\n\t\tPercentage Correct: 39.65\tPercentage Fx Correct: 89.71\tPercentage Set Correct: 43.11\nTrain Epoch: 49\t[1000/117711 (1%)]\tTotal Loss: 2.2942\tAvg Loss: 0.0023\nTrain Epoch: 49\t[2000/117711 (2%)]\tTotal Loss: 4.0869\tAvg Loss: 0.0020\nTrain Epoch: 49\t[3000/117711 (3%)]\tTotal Loss: 5.8776\tAvg Loss: 0.0020\nTrain Epoch: 49\t[4000/117711 (3%)]\tTotal Loss: 7.5493\tAvg Loss: 0.0019\nTrain Epoch: 49\t[5000/117711 (4%)]\tTotal Loss: 9.2727\tAvg Loss: 0.0019\nTrain Epoch: 49\t[6000/117711 (5%)]\tTotal Loss: 10.8557\tAvg Loss: 0.0018\nTrain Epoch: 49\t[7000/117711 (6%)]\tTotal Loss: 12.5768\tAvg Loss: 0.0018\nTrain Epoch: 49\t[8000/117711 (7%)]\tTotal Loss: 14.1886\tAvg Loss: 0.0018\nTrain Epoch: 49\t[9000/117711 (8%)]\tTotal Loss: 15.6396\tAvg Loss: 0.0017\nTrain Epoch: 49\t[10000/117711 (8%)]\tTotal Loss: 17.4651\tAvg Loss: 0.0017\nTrain Epoch: 49\t[11000/117711 (9%)]\tTotal Loss: 19.3861\tAvg Loss: 0.0018\nTrain Epoch: 49\t[12000/117711 (10%)]\tTotal Loss: 21.2457\tAvg Loss: 0.0018\nTrain Epoch: 49\t[13000/117711 (11%)]\tTotal Loss: 22.9907\tAvg Loss: 0.0018\nTrain Epoch: 49\t[14000/117711 (12%)]\tTotal Loss: 24.5943\tAvg Loss: 0.0018\nTrain Epoch: 49\t[15000/117711 (13%)]\tTotal Loss: 26.3102\tAvg Loss: 0.0018\nTrain Epoch: 49\t[16000/117711 (14%)]\tTotal Loss: 27.9866\tAvg Loss: 0.0017\nTrain Epoch: 49\t[17000/117711 (14%)]\tTotal Loss: 29.5720\tAvg Loss: 0.0017\nTrain Epoch: 49\t[18000/117711 (15%)]\tTotal Loss: 31.1967\tAvg Loss: 0.0017\nTrain Epoch: 49\t[19000/117711 (16%)]\tTotal Loss: 32.6860\tAvg Loss: 0.0017\nTrain Epoch: 49\t[20000/117711 (17%)]\tTotal Loss: 34.1771\tAvg Loss: 0.0017\nTrain Epoch: 49\t[21000/117711 (18%)]\tTotal Loss: 35.6434\tAvg Loss: 0.0017\nTrain Epoch: 49\t[22000/117711 (19%)]\tTotal Loss: 37.0496\tAvg Loss: 0.0017\nTrain Epoch: 49\t[23000/117711 (20%)]\tTotal Loss: 38.5923\tAvg Loss: 0.0017\nTrain Epoch: 49\t[24000/117711 (20%)]\tTotal Loss: 40.2784\tAvg Loss: 0.0017\nTrain Epoch: 49\t[25000/117711 (21%)]\tTotal Loss: 41.9076\tAvg Loss: 0.0017\nTrain Epoch: 49\t[26000/117711 (22%)]\tTotal Loss: 43.4850\tAvg Loss: 0.0017\nTrain Epoch: 49\t[27000/117711 (23%)]\tTotal Loss: 45.1254\tAvg Loss: 0.0017\nTrain Epoch: 49\t[28000/117711 (24%)]\tTotal Loss: 46.6994\tAvg Loss: 0.0017\nTrain Epoch: 49\t[29000/117711 (25%)]\tTotal Loss: 48.2062\tAvg Loss: 0.0017\nTrain Epoch: 49\t[30000/117711 (25%)]\tTotal Loss: 49.8642\tAvg Loss: 0.0017\nTrain Epoch: 49\t[31000/117711 (26%)]\tTotal Loss: 51.6037\tAvg Loss: 0.0017\nTrain Epoch: 49\t[32000/117711 (27%)]\tTotal Loss: 53.1623\tAvg Loss: 0.0017\nTrain Epoch: 49\t[33000/117711 (28%)]\tTotal Loss: 54.8882\tAvg Loss: 0.0017\nTrain Epoch: 49\t[34000/117711 (29%)]\tTotal Loss: 56.6875\tAvg Loss: 0.0017\nTrain Epoch: 49\t[35000/117711 (30%)]\tTotal Loss: 58.4222\tAvg Loss: 0.0017\nTrain Epoch: 49\t[36000/117711 (31%)]\tTotal Loss: 60.1030\tAvg Loss: 0.0017\nTrain Epoch: 49\t[37000/117711 (31%)]\tTotal Loss: 61.7959\tAvg Loss: 0.0017\nTrain Epoch: 49\t[38000/117711 (32%)]\tTotal Loss: 63.4468\tAvg Loss: 0.0017\nTrain Epoch: 49\t[39000/117711 (33%)]\tTotal Loss: 65.2815\tAvg Loss: 0.0017\nTrain Epoch: 49\t[40000/117711 (34%)]\tTotal Loss: 66.9270\tAvg Loss: 0.0017\nTrain Epoch: 49\t[41000/117711 (35%)]\tTotal Loss: 68.5718\tAvg Loss: 0.0017\nTrain Epoch: 49\t[42000/117711 (36%)]\tTotal Loss: 70.1954\tAvg Loss: 0.0017\nTrain Epoch: 49\t[43000/117711 (37%)]\tTotal Loss: 71.8210\tAvg Loss: 0.0017\nTrain Epoch: 49\t[44000/117711 (37%)]\tTotal Loss: 73.4413\tAvg Loss: 0.0017\nTrain Epoch: 49\t[45000/117711 (38%)]\tTotal Loss: 74.9781\tAvg Loss: 0.0017\nTrain Epoch: 49\t[46000/117711 (39%)]\tTotal Loss: 76.5076\tAvg Loss: 0.0017\nTrain Epoch: 49\t[47000/117711 (40%)]\tTotal Loss: 78.2145\tAvg Loss: 0.0017\nTrain Epoch: 49\t[48000/117711 (41%)]\tTotal Loss: 79.9393\tAvg Loss: 0.0017\nTrain Epoch: 49\t[49000/117711 (42%)]\tTotal Loss: 81.8458\tAvg Loss: 0.0017\nTrain Epoch: 49\t[50000/117711 (42%)]\tTotal Loss: 83.5627\tAvg Loss: 0.0017\nTrain Epoch: 49\t[51000/117711 (43%)]\tTotal Loss: 85.2739\tAvg Loss: 0.0017\nTrain Epoch: 49\t[52000/117711 (44%)]\tTotal Loss: 86.9298\tAvg Loss: 0.0017\nTrain Epoch: 49\t[53000/117711 (45%)]\tTotal Loss: 88.4983\tAvg Loss: 0.0017\nTrain Epoch: 49\t[54000/117711 (46%)]\tTotal Loss: 90.0438\tAvg Loss: 0.0017\nTrain Epoch: 49\t[55000/117711 (47%)]\tTotal Loss: 91.6052\tAvg Loss: 0.0017\nTrain Epoch: 49\t[56000/117711 (48%)]\tTotal Loss: 93.2047\tAvg Loss: 0.0017\nTrain Epoch: 49\t[57000/117711 (48%)]\tTotal Loss: 94.8324\tAvg Loss: 0.0017\nTrain Epoch: 49\t[58000/117711 (49%)]\tTotal Loss: 96.4297\tAvg Loss: 0.0017\nTrain Epoch: 49\t[59000/117711 (50%)]\tTotal Loss: 97.9268\tAvg Loss: 0.0017\nTrain Epoch: 49\t[60000/117711 (51%)]\tTotal Loss: 99.4018\tAvg Loss: 0.0017\nTrain Epoch: 49\t[61000/117711 (52%)]\tTotal Loss: 100.8339\tAvg Loss: 0.0017\nTrain Epoch: 49\t[62000/117711 (53%)]\tTotal Loss: 102.5068\tAvg Loss: 0.0017\nTrain Epoch: 49\t[63000/117711 (53%)]\tTotal Loss: 103.9997\tAvg Loss: 0.0017\nTrain Epoch: 49\t[64000/117711 (54%)]\tTotal Loss: 105.5527\tAvg Loss: 0.0016\nTrain Epoch: 49\t[65000/117711 (55%)]\tTotal Loss: 107.1910\tAvg Loss: 0.0016\nTrain Epoch: 49\t[66000/117711 (56%)]\tTotal Loss: 108.7447\tAvg Loss: 0.0016\nTrain Epoch: 49\t[67000/117711 (57%)]\tTotal Loss: 110.2493\tAvg Loss: 0.0016\nTrain Epoch: 49\t[68000/117711 (58%)]\tTotal Loss: 111.7883\tAvg Loss: 0.0016\nTrain Epoch: 49\t[69000/117711 (59%)]\tTotal Loss: 113.3159\tAvg Loss: 0.0016\nTrain Epoch: 49\t[70000/117711 (59%)]\tTotal Loss: 114.7746\tAvg Loss: 0.0016\nTrain Epoch: 49\t[71000/117711 (60%)]\tTotal Loss: 116.1585\tAvg Loss: 0.0016\nTrain Epoch: 49\t[72000/117711 (61%)]\tTotal Loss: 117.7908\tAvg Loss: 0.0016\nTrain Epoch: 49\t[73000/117711 (62%)]\tTotal Loss: 119.3017\tAvg Loss: 0.0016\nTrain Epoch: 49\t[74000/117711 (63%)]\tTotal Loss: 121.0510\tAvg Loss: 0.0016\nTrain Epoch: 49\t[75000/117711 (64%)]\tTotal Loss: 122.5827\tAvg Loss: 0.0016\nTrain Epoch: 49\t[76000/117711 (65%)]\tTotal Loss: 124.1656\tAvg Loss: 0.0016\nTrain Epoch: 49\t[77000/117711 (65%)]\tTotal Loss: 125.7048\tAvg Loss: 0.0016\nTrain Epoch: 49\t[78000/117711 (66%)]\tTotal Loss: 127.4611\tAvg Loss: 0.0016\nTrain Epoch: 49\t[79000/117711 (67%)]\tTotal Loss: 129.7618\tAvg Loss: 0.0016\nTrain Epoch: 49\t[80000/117711 (68%)]\tTotal Loss: 131.6116\tAvg Loss: 0.0016\nTrain Epoch: 49\t[81000/117711 (69%)]\tTotal Loss: 133.4234\tAvg Loss: 0.0016\nTrain Epoch: 49\t[82000/117711 (70%)]\tTotal Loss: 135.1930\tAvg Loss: 0.0016\nTrain Epoch: 49\t[83000/117711 (70%)]\tTotal Loss: 137.2743\tAvg Loss: 0.0017\nTrain Epoch: 49\t[84000/117711 (71%)]\tTotal Loss: 139.0302\tAvg Loss: 0.0017\nTrain Epoch: 49\t[85000/117711 (72%)]\tTotal Loss: 140.7130\tAvg Loss: 0.0017\nTrain Epoch: 49\t[86000/117711 (73%)]\tTotal Loss: 142.3727\tAvg Loss: 0.0017\nTrain Epoch: 49\t[87000/117711 (74%)]\tTotal Loss: 144.2543\tAvg Loss: 0.0017\nTrain Epoch: 49\t[88000/117711 (75%)]\tTotal Loss: 145.8106\tAvg Loss: 0.0017\nTrain Epoch: 49\t[89000/117711 (76%)]\tTotal Loss: 147.6564\tAvg Loss: 0.0017\nTrain Epoch: 49\t[90000/117711 (76%)]\tTotal Loss: 149.2642\tAvg Loss: 0.0017\nTrain Epoch: 49\t[91000/117711 (77%)]\tTotal Loss: 150.9091\tAvg Loss: 0.0017\nTrain Epoch: 49\t[92000/117711 (78%)]\tTotal Loss: 152.5414\tAvg Loss: 0.0017\nTrain Epoch: 49\t[93000/117711 (79%)]\tTotal Loss: 154.2814\tAvg Loss: 0.0017\nTrain Epoch: 49\t[94000/117711 (80%)]\tTotal Loss: 155.6612\tAvg Loss: 0.0017\nTrain Epoch: 49\t[95000/117711 (81%)]\tTotal Loss: 157.2578\tAvg Loss: 0.0017\nTrain Epoch: 49\t[96000/117711 (81%)]\tTotal Loss: 158.8240\tAvg Loss: 0.0017\nTrain Epoch: 49\t[97000/117711 (82%)]\tTotal Loss: 160.2970\tAvg Loss: 0.0017\nTrain Epoch: 49\t[98000/117711 (83%)]\tTotal Loss: 161.9081\tAvg Loss: 0.0017\nTrain Epoch: 49\t[99000/117711 (84%)]\tTotal Loss: 163.4409\tAvg Loss: 0.0017\nTrain Epoch: 49\t[100000/117711 (85%)]\tTotal Loss: 164.9294\tAvg Loss: 0.0016\nTrain Epoch: 49\t[101000/117711 (86%)]\tTotal Loss: 166.4183\tAvg Loss: 0.0016\nTrain Epoch: 49\t[102000/117711 (87%)]\tTotal Loss: 167.9379\tAvg Loss: 0.0016\nTrain Epoch: 49\t[103000/117711 (87%)]\tTotal Loss: 169.5596\tAvg Loss: 0.0016\nTrain Epoch: 49\t[104000/117711 (88%)]\tTotal Loss: 171.3171\tAvg Loss: 0.0016\nTrain Epoch: 49\t[105000/117711 (89%)]\tTotal Loss: 172.9567\tAvg Loss: 0.0016\nTrain Epoch: 49\t[106000/117711 (90%)]\tTotal Loss: 174.8400\tAvg Loss: 0.0016\nTrain Epoch: 49\t[107000/117711 (91%)]\tTotal Loss: 176.3810\tAvg Loss: 0.0016\nTrain Epoch: 49\t[108000/117711 (92%)]\tTotal Loss: 177.7433\tAvg Loss: 0.0016\nTrain Epoch: 49\t[109000/117711 (93%)]\tTotal Loss: 179.4650\tAvg Loss: 0.0016\nTrain Epoch: 49\t[110000/117711 (93%)]\tTotal Loss: 181.2455\tAvg Loss: 0.0016\nTrain Epoch: 49\t[111000/117711 (94%)]\tTotal Loss: 182.8905\tAvg Loss: 0.0016\nTrain Epoch: 49\t[112000/117711 (95%)]\tTotal Loss: 184.5491\tAvg Loss: 0.0016\nTrain Epoch: 49\t[113000/117711 (96%)]\tTotal Loss: 186.2380\tAvg Loss: 0.0016\nTrain Epoch: 49\t[114000/117711 (97%)]\tTotal Loss: 187.8049\tAvg Loss: 0.0016\nTrain Epoch: 49\t[115000/117711 (98%)]\tTotal Loss: 189.6655\tAvg Loss: 0.0016\nTrain Epoch: 49\t[116000/117711 (98%)]\tTotal Loss: 191.2395\tAvg Loss: 0.0016\nTrain Epoch: 49\t[117000/117711 (99%)]\tTotal Loss: 192.9469\tAvg Loss: 0.0016\n====> Epoch: 49\tTotal Loss: 194.1079\t Avg Loss: 0.0016\t Fx Loss: 154.8701\t Set Loss: 39.2378\n\t\tCorrect: 58757/117711\tFx Correct: 107627/117711\tSet Correct: 62980/117711\n\t\tPercentage Correct: 49.92\tPercentage Fx Correct: 91.43\tPercentage Set Correct: 53.50\n====> Val Loss: 28.5092\t Avg Loss: 0.0022\t Fx Loss: 23.4147\t Set Loss: 5.0945\n\t\tCorrect: 5631/13079\tFx Correct: 11841/13079\tSet Correct: 6108/13079\n\t\tPercentage Correct: 43.05\tPercentage Fx Correct: 90.53\tPercentage Set Correct: 46.70\n====> Test Loss: 70.9811\t Avg Loss: 0.0022\t Fx Loss: 58.1212\t Set Loss: 12.8599\n\t\tCorrect: 14011/32698\tFx Correct: 29562/32698\tSet Correct: 15201/32698\n\t\tPercentage Correct: 42.85\tPercentage Fx Correct: 90.41\tPercentage Set Correct: 46.49\nTraining time: 46872.0858297348s\n"
    }
   ],
   "source": [
    "# TRAIN and TEST MultiNet OVER MULTIPLE EPOCHS\n",
    "train_set_size = len(split.train_sampler)\n",
    "val_set_size = len(split.val_sampler)\n",
    "test_set_size = len(split.test_sampler)\n",
    "\n",
    "all_train_losses, all_val_losses, all_test_losses = [],[],[]\n",
    "all_train_correct, all_val_correct, all_test_correct = [],[],[]\n",
    "all_train_results, all_val_results, all_test_results = [],[],[]\n",
    "\n",
    "start = time.time()\n",
    "\n",
    "for epoch in range(50):\n",
    "    train_loss, train_correct, train_results = trainer.train_multi_net(\n",
    "        model=net,\n",
    "        optimizer=optimizer, \n",
    "        train_loader=train_loader, \n",
    "        train_sampler=split.train_sampler, \n",
    "        epoch=epoch, \n",
    "        loss_function_fx=loss_func_fx, \n",
    "        loss_function_set=loss_func_set,\n",
    "        device=device\n",
    "    )\n",
    "    \n",
    "    val_loss, val_correct, val_results = trainer.val_multi_net(\n",
    "        model=net,\n",
    "        val_loader=val_loader, \n",
    "        val_sampler=split.val_sampler, \n",
    "        loss_function_fx=loss_func_fx, \n",
    "        loss_function_set=loss_func_set,\n",
    "        device=device\n",
    "    )\n",
    "    \n",
    "    test_loss, test_correct, test_results = trainer.test_multi_net(\n",
    "        model=net,\n",
    "        test_loader=test_loader, \n",
    "        test_sampler=split.test_sampler, \n",
    "        loss_function_fx=loss_func_fx, \n",
    "        loss_function_set=loss_func_set,\n",
    "        device=device\n",
    "    )\n",
    "    \n",
    "    all_train_losses.append(train_loss)\n",
    "    all_val_losses.append(val_loss)\n",
    "    all_test_losses.append(test_loss)\n",
    "    \n",
    "    all_train_correct.append(train_correct)\n",
    "    all_val_correct.append(val_correct)\n",
    "    all_test_correct.append(test_correct)\n",
    "    \n",
    "    all_train_results.append(train_results)\n",
    "    all_val_results.append(val_results)\n",
    "    all_test_results.append(test_results)\n",
    "\n",
    "stop = time.time()\n",
    "print(f\"Training time: {stop - start}s\")"
   ]
  },
  {
   "cell_type": "code",
   "execution_count": 9,
   "metadata": {},
   "outputs": [],
   "source": [
    "# SAVE\n",
    "models_folder = 'saved_models'\n",
    "model_name = '20200908_multinet'\n",
    "results_folder = 'saved_results'"
   ]
  },
  {
   "cell_type": "code",
   "execution_count": 10,
   "metadata": {},
   "outputs": [],
   "source": [
    "# SAVE MODEL\n",
    "torch.save(net, '%s/%s' % (models_folder, model_name))"
   ]
  },
  {
   "cell_type": "code",
   "execution_count": 11,
   "metadata": {},
   "outputs": [],
   "source": [
    "# SAVE RESULTS\n",
    "all_train_losses_npy = np.array(all_train_losses)\n",
    "all_train_correct_npy = np.array(all_train_correct)\n",
    "all_train_results_npy = np.array(all_train_results)\n",
    "\n",
    "all_val_losses_npy = np.array(all_val_losses)\n",
    "all_val_correct_npy = np.array(all_val_correct)\n",
    "all_val_results_npy = np.array(all_val_results)\n",
    "\n",
    "all_test_losses_npy = np.array(all_test_losses)\n",
    "all_test_correct_npy = np.array(all_test_correct)\n",
    "all_test_results_npy = np.array(all_test_results)\n",
    "\n",
    "fx_labels_npy = np.array(list(dataset.fx_to_label.keys()))\n",
    "\n",
    "np.save(file=('%s/%s/%s' % (results_folder, model_name, 'all_train_losses')), arr=all_train_losses_npy, allow_pickle=True)\n",
    "np.save(file=('%s/%s/%s' % (results_folder, model_name, 'all_train_correct')), arr=all_train_correct_npy, allow_pickle=True)\n",
    "np.save(file=('%s/%s/%s' % (results_folder, model_name, 'all_train_results')), arr=all_train_results_npy, allow_pickle=True)\n",
    "\n",
    "np.save(file=('%s/%s/%s' % (results_folder, model_name, 'all_val_losses')), arr=all_val_losses_npy, allow_pickle=True)\n",
    "np.save(file=('%s/%s/%s' % (results_folder, model_name, 'all_val_correct')), arr=all_val_correct_npy, allow_pickle=True)\n",
    "np.save(file=('%s/%s/%s' % (results_folder, model_name, 'all_val_results')), arr=all_val_results_npy, allow_pickle=True)\n",
    "\n",
    "np.save(file=('%s/%s/%s' % (results_folder, model_name, 'all_test_losses')), arr=all_test_losses_npy, allow_pickle=True)\n",
    "np.save(file=('%s/%s/%s' % (results_folder, model_name, 'all_test_correct')), arr=all_test_correct_npy, allow_pickle=True)\n",
    "np.save(file=('%s/%s/%s' % (results_folder, model_name, 'all_test_results')), arr=all_test_results_npy, allow_pickle=True)\n",
    "\n",
    "np.save(file=('%s/%s/%s' % (results_folder, model_name, 'fx_labels')), arr=fx_labels_npy, allow_pickle=True)"
   ]
  },
  {
   "cell_type": "code",
   "execution_count": null,
   "metadata": {},
   "outputs": [],
   "source": []
  }
 ],
 "metadata": {
  "kernelspec": {
   "name": "Python 3.8.5 64-bit ('venv')",
   "display_name": "Python 3.8.5 64-bit ('venv')",
   "metadata": {
    "interpreter": {
     "hash": "a7a805fa6ca9da60fb7b6b6395736daa5b09e73fa3d86545b482a0c8fc26d334"
    }
   }
  },
  "language_info": {
   "codemirror_mode": {
    "name": "ipython",
    "version": 3
   },
   "file_extension": ".py",
   "mimetype": "text/x-python",
   "name": "python",
   "nbconvert_exporter": "python",
   "pygments_lexer": "ipython3",
   "version": "3.8.5-final"
  }
 },
 "nbformat": 4,
 "nbformat_minor": 4
}