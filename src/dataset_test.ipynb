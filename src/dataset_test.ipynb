{
 "metadata": {
  "language_info": {
   "codemirror_mode": {
    "name": "ipython",
    "version": 3
   },
   "file_extension": ".py",
   "mimetype": "text/x-python",
   "name": "python",
   "nbconvert_exporter": "python",
   "pygments_lexer": "ipython3",
   "version": "3.7.6-final"
  },
  "orig_nbformat": 2,
  "kernelspec": {
   "name": "python3",
   "display_name": "Python 3"
  }
 },
 "nbformat": 4,
 "nbformat_minor": 2,
 "cells": [
  {
   "cell_type": "code",
   "execution_count": 2,
   "metadata": {},
   "outputs": [],
   "source": [
    "import torch\n",
    "import torch.optim as optim\n",
    "import torchvision.transforms as transforms\n",
    "import torch.nn as nn\n",
    "\n",
    "import csv\n",
    "\n",
    "import dataset.dataset as dataset\n",
    "import datasplit.datasplit as datasplit\n",
    "import model.models as models\n",
    "import trainer.trainer as trainer\n",
    "import utils.utils as utils"
   ]
  },
  {
   "cell_type": "code",
   "execution_count": 3,
   "metadata": {},
   "outputs": [],
   "source": [
    "# transforms\n",
    "transform = transforms.Compose([\n",
    "        transforms.ToTensor(),\n",
    "    ])\n",
    "\n",
    "# dataset\n",
    "root = '/Volumes/Mac/DATASETS/GUITAR-FX/Mono'\n",
    "excl_folders = ['NoFX_mono','NoFX_mono_preprocessed','DPL','DS1','FFC',\n",
    "                'MGS','MT2','OD1','RAT','RBM','SD1','TS9','VTB']\n",
    "spectra_folder= 'mel_22050_1024_512'\n",
    "proc_settings_csv = 'proc_settings.csv'\n",
    "\n",
    "dataset = dataset.FxDataset(root=root,\n",
    "                            excl_folders=excl_folders, \n",
    "                            spectra_folder=spectra_folder, \n",
    "                            transform=transform)\n",
    "dataset.init_dataset()"
   ]
  },
  {
   "cell_type": "code",
   "execution_count": 4,
   "metadata": {},
   "outputs": [
    {
     "output_type": "execute_result",
     "data": {
      "text/plain": "{'808': 0, 'BD2': 1, 'BMF': 2}"
     },
     "metadata": {},
     "execution_count": 4
    }
   ],
   "source": [
    "dataset.fx_to_label"
   ]
  },
  {
   "cell_type": "code",
   "execution_count": 10,
   "metadata": {},
   "outputs": [
    {
     "output_type": "execute_result",
     "data": {
      "text/plain": "[('G83-61311-808-O5T2-21020', [1.0, 0.5, 0.2, -1.0, -1.0, -1.0]),\n ('G71-41101-808-O10T10-20750', [1.0, 1.0, 1.0, -1.0, -1.0, -1.0]),\n ('G73-67603-808-O2T8-20895', [1.0, 0.2, 0.8, -1.0, -1.0, -1.0]),\n ('G81-52112-808-O8T0-20917', [1.0, 0.8, 0.0, -1.0, -1.0, -1.0]),\n ('G91-46201-808-O5T10-21075', [1.0, 0.5, 1.0, -1.0, -1.0, -1.0])]"
     },
     "metadata": {},
     "execution_count": 10
    }
   ],
   "source": [
    "dataset.audiosamples_settings[:5]"
   ]
  },
  {
   "cell_type": "code",
   "execution_count": null,
   "metadata": {},
   "outputs": [],
   "source": []
  }
 ]
}