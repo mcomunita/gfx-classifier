{
 "cells": [
  {
   "cell_type": "markdown",
   "metadata": {},
   "source": [
    "### Import"
   ]
  },
  {
   "cell_type": "code",
   "execution_count": 2,
   "metadata": {},
   "outputs": [],
   "source": [
    "import torch\n",
    "import torch.optim as optim\n",
    "import torchvision.transforms as transforms\n",
    "import torch.nn as nn\n",
    "import torch.nn.functional as F\n",
    "\n",
    "import numpy as np\n",
    "import time\n",
    "import matplotlib\n",
    "import matplotlib.pyplot as plt\n",
    "\n",
    "import dataset.dataset as dataset\n",
    "import datasplit.datasplit as datasplit\n",
    "import model.models as models\n",
    "import trainer.trainer as trainer\n",
    "import utils.utils as utils"
   ]
  },
  {
   "cell_type": "markdown",
   "metadata": {},
   "source": [
    "### GPU"
   ]
  },
  {
   "cell_type": "code",
   "execution_count": 3,
   "metadata": {},
   "outputs": [],
   "source": [
    "torch.cuda.device_count()\n",
    "\n",
    "cuda0 = torch.device('cuda:0')\n",
    "cuda1 = torch.device('cuda:1')\n",
    "cuda2 = torch.device('cuda:2')\n",
    "cuda3 = torch.device('cuda:3')\n",
    "\n",
    "device = torch.device(cuda0 if torch.cuda.is_available() else \"cpu\")"
   ]
  },
  {
   "cell_type": "markdown",
   "metadata": {},
   "source": [
    "### INIT"
   ]
  },
  {
   "cell_type": "code",
   "execution_count": 4,
   "metadata": {},
   "outputs": [],
   "source": [
    "# transforms\n",
    "transform = transforms.Compose([\n",
    "        transforms.ToTensor(),\n",
    "    ])\n",
    "\n",
    "# dataset\n",
    "root = '/Volumes/Macintosh HD/DATASETS/GUITAR-FX/Mono'\n",
    "excl_folders = ['NoFX_mono', 'NoFX_mono_preprocessed']\n",
    "spectra_folder= 'mel_22050_1024_512'\n",
    "proc_settings_csv = 'proc_settings.csv'\n",
    "max_num_settings=6\n",
    "\n",
    "dataset = dataset.FxDataset(root=root,\n",
    "                            excl_folders=excl_folders, \n",
    "                            spectra_folder=spectra_folder, \n",
    "                            processed_settings_csv=proc_settings_csv,\n",
    "                            max_num_settings=max_num_settings,\n",
    "                            transform=transform)\n",
    "dataset.init_dataset()\n",
    "# dataset.generate_mel()\n",
    "\n",
    "# split\n",
    "split = datasplit.DataSplit(dataset, shuffle=True)\n",
    "# loaders\n",
    "train_loader, val_loader, test_loader = split.get_split(batch_size=100)"
   ]
  },
  {
   "cell_type": "code",
   "execution_count": 5,
   "metadata": {},
   "outputs": [
    {
     "output_type": "execute_result",
     "data": {
      "text/plain": "163488"
     },
     "metadata": {},
     "execution_count": 5
    }
   ],
   "source": [
    "len(dataset)"
   ]
  },
  {
   "cell_type": "markdown",
   "metadata": {},
   "source": [
    "### TRAIN SetNET"
   ]
  },
  {
   "cell_type": "code",
   "execution_count": 9,
   "metadata": {},
   "outputs": [],
   "source": [
    "# model\n",
    "setnet = models.SettingsNet().to(device)\n",
    "# optimizer\n",
    "optimizer_setnet = optim.Adam(setnet.parameters(), lr=0.001)\n",
    "# loss function\n",
    "loss_func_setnet = nn.MSELoss(reduction='mean')"
   ]
  },
  {
   "cell_type": "code",
   "execution_count": 10,
   "metadata": {
    "tags": []
   },
   "outputs": [
    {
     "output_type": "stream",
     "name": "stdout",
     "text": "SettingsNet(\n  (conv1): Conv2d(1, 6, kernel_size=(5, 5), stride=(1, 1))\n  (conv2): Conv2d(6, 12, kernel_size=(5, 5), stride=(1, 1))\n  (fc1): Linear(in_features=6264, out_features=120, bias=True)\n  (fc2): Linear(in_features=120, out_features=60, bias=True)\n  (out): Linear(in_features=60, out_features=6, bias=True)\n)\n"
    }
   ],
   "source": [
    "print(setnet)"
   ]
  },
  {
   "cell_type": "code",
   "execution_count": 11,
   "metadata": {
    "tags": [
     "outputPrepend"
    ]
   },
   "outputs": [
    {
     "output_type": "stream",
     "name": "stdout",
     "text": " Epoch: 47\t[90000/117711 (76%)]\tTotal Loss: 4.7531\tAvg Loss: 0.0001\nTrain Epoch: 47\t[91000/117711 (77%)]\tTotal Loss: 4.8039\tAvg Loss: 0.0001\nTrain Epoch: 47\t[92000/117711 (78%)]\tTotal Loss: 4.8611\tAvg Loss: 0.0001\nTrain Epoch: 47\t[93000/117711 (79%)]\tTotal Loss: 4.9059\tAvg Loss: 0.0001\nTrain Epoch: 47\t[94000/117711 (80%)]\tTotal Loss: 4.9630\tAvg Loss: 0.0001\nTrain Epoch: 47\t[95000/117711 (81%)]\tTotal Loss: 5.0051\tAvg Loss: 0.0001\nTrain Epoch: 47\t[96000/117711 (81%)]\tTotal Loss: 5.0475\tAvg Loss: 0.0001\nTrain Epoch: 47\t[97000/117711 (82%)]\tTotal Loss: 5.0935\tAvg Loss: 0.0001\nTrain Epoch: 47\t[98000/117711 (83%)]\tTotal Loss: 5.1481\tAvg Loss: 0.0001\nTrain Epoch: 47\t[99000/117711 (84%)]\tTotal Loss: 5.1909\tAvg Loss: 0.0001\nTrain Epoch: 47\t[100000/117711 (85%)]\tTotal Loss: 5.2437\tAvg Loss: 0.0001\nTrain Epoch: 47\t[101000/117711 (86%)]\tTotal Loss: 5.2925\tAvg Loss: 0.0001\nTrain Epoch: 47\t[102000/117711 (87%)]\tTotal Loss: 5.3421\tAvg Loss: 0.0001\nTrain Epoch: 47\t[103000/117711 (87%)]\tTotal Loss: 5.3868\tAvg Loss: 0.0001\nTrain Epoch: 47\t[104000/117711 (88%)]\tTotal Loss: 5.4460\tAvg Loss: 0.0001\nTrain Epoch: 47\t[105000/117711 (89%)]\tTotal Loss: 5.5043\tAvg Loss: 0.0001\nTrain Epoch: 47\t[106000/117711 (90%)]\tTotal Loss: 5.5564\tAvg Loss: 0.0001\nTrain Epoch: 47\t[107000/117711 (91%)]\tTotal Loss: 5.6041\tAvg Loss: 0.0001\nTrain Epoch: 47\t[108000/117711 (92%)]\tTotal Loss: 5.6578\tAvg Loss: 0.0001\nTrain Epoch: 47\t[109000/117711 (93%)]\tTotal Loss: 5.7108\tAvg Loss: 0.0001\nTrain Epoch: 47\t[110000/117711 (93%)]\tTotal Loss: 5.7608\tAvg Loss: 0.0001\nTrain Epoch: 47\t[111000/117711 (94%)]\tTotal Loss: 5.8076\tAvg Loss: 0.0001\nTrain Epoch: 47\t[112000/117711 (95%)]\tTotal Loss: 5.8526\tAvg Loss: 0.0001\nTrain Epoch: 47\t[113000/117711 (96%)]\tTotal Loss: 5.9006\tAvg Loss: 0.0001\nTrain Epoch: 47\t[114000/117711 (97%)]\tTotal Loss: 5.9431\tAvg Loss: 0.0001\nTrain Epoch: 47\t[115000/117711 (98%)]\tTotal Loss: 5.9839\tAvg Loss: 0.0001\nTrain Epoch: 47\t[116000/117711 (98%)]\tTotal Loss: 6.0295\tAvg Loss: 0.0001\nTrain Epoch: 47\t[117000/117711 (99%)]\tTotal Loss: 6.0799\tAvg Loss: 0.0001\n====> Epoch: 47\tTotal Loss: 6.1110\t Avg Loss: 0.0001\tCorrect: 62635/117711\tPercentage Correct: 53.21\n====> Val Loss: 1.2484\t Avg Loss: 0.0001\tCorrect: 6317/13079\tPercentage Correct: 48.30\n====> Test Loss: 2.9324\t Avg Loss: 0.0001\tCorrect: 15708/32698\tPercentage Correct: 48.04\nTrain Epoch: 48\t[1000/117711 (1%)]\tTotal Loss: 0.0392\tAvg Loss: 0.0000\nTrain Epoch: 48\t[2000/117711 (2%)]\tTotal Loss: 0.0829\tAvg Loss: 0.0000\nTrain Epoch: 48\t[3000/117711 (3%)]\tTotal Loss: 0.1281\tAvg Loss: 0.0000\nTrain Epoch: 48\t[4000/117711 (3%)]\tTotal Loss: 0.1831\tAvg Loss: 0.0000\nTrain Epoch: 48\t[5000/117711 (4%)]\tTotal Loss: 0.2461\tAvg Loss: 0.0000\nTrain Epoch: 48\t[6000/117711 (5%)]\tTotal Loss: 0.3114\tAvg Loss: 0.0001\nTrain Epoch: 48\t[7000/117711 (6%)]\tTotal Loss: 0.3881\tAvg Loss: 0.0001\nTrain Epoch: 48\t[8000/117711 (7%)]\tTotal Loss: 0.4576\tAvg Loss: 0.0001\nTrain Epoch: 48\t[9000/117711 (8%)]\tTotal Loss: 0.5202\tAvg Loss: 0.0001\nTrain Epoch: 48\t[10000/117711 (8%)]\tTotal Loss: 0.5709\tAvg Loss: 0.0001\nTrain Epoch: 48\t[11000/117711 (9%)]\tTotal Loss: 0.6243\tAvg Loss: 0.0001\nTrain Epoch: 48\t[12000/117711 (10%)]\tTotal Loss: 0.6697\tAvg Loss: 0.0001\nTrain Epoch: 48\t[13000/117711 (11%)]\tTotal Loss: 0.7152\tAvg Loss: 0.0001\nTrain Epoch: 48\t[14000/117711 (12%)]\tTotal Loss: 0.7637\tAvg Loss: 0.0001\nTrain Epoch: 48\t[15000/117711 (13%)]\tTotal Loss: 0.8064\tAvg Loss: 0.0001\nTrain Epoch: 48\t[16000/117711 (14%)]\tTotal Loss: 0.8448\tAvg Loss: 0.0001\nTrain Epoch: 48\t[17000/117711 (14%)]\tTotal Loss: 0.8886\tAvg Loss: 0.0001\nTrain Epoch: 48\t[18000/117711 (15%)]\tTotal Loss: 0.9372\tAvg Loss: 0.0001\nTrain Epoch: 48\t[19000/117711 (16%)]\tTotal Loss: 0.9918\tAvg Loss: 0.0001\nTrain Epoch: 48\t[20000/117711 (17%)]\tTotal Loss: 1.0386\tAvg Loss: 0.0001\nTrain Epoch: 48\t[21000/117711 (18%)]\tTotal Loss: 1.0826\tAvg Loss: 0.0001\nTrain Epoch: 48\t[22000/117711 (19%)]\tTotal Loss: 1.1240\tAvg Loss: 0.0001\nTrain Epoch: 48\t[23000/117711 (20%)]\tTotal Loss: 1.1782\tAvg Loss: 0.0001\nTrain Epoch: 48\t[24000/117711 (20%)]\tTotal Loss: 1.2270\tAvg Loss: 0.0001\nTrain Epoch: 48\t[25000/117711 (21%)]\tTotal Loss: 1.2713\tAvg Loss: 0.0001\nTrain Epoch: 48\t[26000/117711 (22%)]\tTotal Loss: 1.3202\tAvg Loss: 0.0001\nTrain Epoch: 48\t[27000/117711 (23%)]\tTotal Loss: 1.3653\tAvg Loss: 0.0001\nTrain Epoch: 48\t[28000/117711 (24%)]\tTotal Loss: 1.4079\tAvg Loss: 0.0001\nTrain Epoch: 48\t[29000/117711 (25%)]\tTotal Loss: 1.4495\tAvg Loss: 0.0000\nTrain Epoch: 48\t[30000/117711 (25%)]\tTotal Loss: 1.4963\tAvg Loss: 0.0000\nTrain Epoch: 48\t[31000/117711 (26%)]\tTotal Loss: 1.5359\tAvg Loss: 0.0000\nTrain Epoch: 48\t[32000/117711 (27%)]\tTotal Loss: 1.5754\tAvg Loss: 0.0000\nTrain Epoch: 48\t[33000/117711 (28%)]\tTotal Loss: 1.6193\tAvg Loss: 0.0000\nTrain Epoch: 48\t[34000/117711 (29%)]\tTotal Loss: 1.6618\tAvg Loss: 0.0000\nTrain Epoch: 48\t[35000/117711 (30%)]\tTotal Loss: 1.7088\tAvg Loss: 0.0000\nTrain Epoch: 48\t[36000/117711 (31%)]\tTotal Loss: 1.7520\tAvg Loss: 0.0000\nTrain Epoch: 48\t[37000/117711 (31%)]\tTotal Loss: 1.7953\tAvg Loss: 0.0000\nTrain Epoch: 48\t[38000/117711 (32%)]\tTotal Loss: 1.8388\tAvg Loss: 0.0000\nTrain Epoch: 48\t[39000/117711 (33%)]\tTotal Loss: 1.8848\tAvg Loss: 0.0000\nTrain Epoch: 48\t[40000/117711 (34%)]\tTotal Loss: 1.9322\tAvg Loss: 0.0000\nTrain Epoch: 48\t[41000/117711 (35%)]\tTotal Loss: 1.9818\tAvg Loss: 0.0000\nTrain Epoch: 48\t[42000/117711 (36%)]\tTotal Loss: 2.0238\tAvg Loss: 0.0000\nTrain Epoch: 48\t[43000/117711 (37%)]\tTotal Loss: 2.0824\tAvg Loss: 0.0000\nTrain Epoch: 48\t[44000/117711 (37%)]\tTotal Loss: 2.1254\tAvg Loss: 0.0000\nTrain Epoch: 48\t[45000/117711 (38%)]\tTotal Loss: 2.1699\tAvg Loss: 0.0000\nTrain Epoch: 48\t[46000/117711 (39%)]\tTotal Loss: 2.2160\tAvg Loss: 0.0000\nTrain Epoch: 48\t[47000/117711 (40%)]\tTotal Loss: 2.2717\tAvg Loss: 0.0000\nTrain Epoch: 48\t[48000/117711 (41%)]\tTotal Loss: 2.3257\tAvg Loss: 0.0000\nTrain Epoch: 48\t[49000/117711 (42%)]\tTotal Loss: 2.3841\tAvg Loss: 0.0000\nTrain Epoch: 48\t[50000/117711 (42%)]\tTotal Loss: 2.4339\tAvg Loss: 0.0000\nTrain Epoch: 48\t[51000/117711 (43%)]\tTotal Loss: 2.4783\tAvg Loss: 0.0000\nTrain Epoch: 48\t[52000/117711 (44%)]\tTotal Loss: 2.5307\tAvg Loss: 0.0000\nTrain Epoch: 48\t[53000/117711 (45%)]\tTotal Loss: 2.5823\tAvg Loss: 0.0000\nTrain Epoch: 48\t[54000/117711 (46%)]\tTotal Loss: 2.6414\tAvg Loss: 0.0000\nTrain Epoch: 48\t[55000/117711 (47%)]\tTotal Loss: 2.6991\tAvg Loss: 0.0000\nTrain Epoch: 48\t[56000/117711 (48%)]\tTotal Loss: 2.7542\tAvg Loss: 0.0000\nTrain Epoch: 48\t[57000/117711 (48%)]\tTotal Loss: 2.8047\tAvg Loss: 0.0000\nTrain Epoch: 48\t[58000/117711 (49%)]\tTotal Loss: 2.8523\tAvg Loss: 0.0000\nTrain Epoch: 48\t[59000/117711 (50%)]\tTotal Loss: 2.9014\tAvg Loss: 0.0000\nTrain Epoch: 48\t[60000/117711 (51%)]\tTotal Loss: 2.9550\tAvg Loss: 0.0000\nTrain Epoch: 48\t[61000/117711 (52%)]\tTotal Loss: 3.0294\tAvg Loss: 0.0000\nTrain Epoch: 48\t[62000/117711 (53%)]\tTotal Loss: 3.0864\tAvg Loss: 0.0000\nTrain Epoch: 48\t[63000/117711 (53%)]\tTotal Loss: 3.1438\tAvg Loss: 0.0000\nTrain Epoch: 48\t[64000/117711 (54%)]\tTotal Loss: 3.2090\tAvg Loss: 0.0001\nTrain Epoch: 48\t[65000/117711 (55%)]\tTotal Loss: 3.2595\tAvg Loss: 0.0001\nTrain Epoch: 48\t[66000/117711 (56%)]\tTotal Loss: 3.3249\tAvg Loss: 0.0001\nTrain Epoch: 48\t[67000/117711 (57%)]\tTotal Loss: 3.3855\tAvg Loss: 0.0001\nTrain Epoch: 48\t[68000/117711 (58%)]\tTotal Loss: 3.4502\tAvg Loss: 0.0001\nTrain Epoch: 48\t[69000/117711 (59%)]\tTotal Loss: 3.5002\tAvg Loss: 0.0001\nTrain Epoch: 48\t[70000/117711 (59%)]\tTotal Loss: 3.5509\tAvg Loss: 0.0001\nTrain Epoch: 48\t[71000/117711 (60%)]\tTotal Loss: 3.5984\tAvg Loss: 0.0001\nTrain Epoch: 48\t[72000/117711 (61%)]\tTotal Loss: 3.6530\tAvg Loss: 0.0001\nTrain Epoch: 48\t[73000/117711 (62%)]\tTotal Loss: 3.7074\tAvg Loss: 0.0001\nTrain Epoch: 48\t[74000/117711 (63%)]\tTotal Loss: 3.7645\tAvg Loss: 0.0001\nTrain Epoch: 48\t[75000/117711 (64%)]\tTotal Loss: 3.8242\tAvg Loss: 0.0001\nTrain Epoch: 48\t[76000/117711 (65%)]\tTotal Loss: 3.8686\tAvg Loss: 0.0001\nTrain Epoch: 48\t[77000/117711 (65%)]\tTotal Loss: 3.9147\tAvg Loss: 0.0001\nTrain Epoch: 48\t[78000/117711 (66%)]\tTotal Loss: 3.9607\tAvg Loss: 0.0001\nTrain Epoch: 48\t[79000/117711 (67%)]\tTotal Loss: 4.0084\tAvg Loss: 0.0001\nTrain Epoch: 48\t[80000/117711 (68%)]\tTotal Loss: 4.0592\tAvg Loss: 0.0001\nTrain Epoch: 48\t[81000/117711 (69%)]\tTotal Loss: 4.1023\tAvg Loss: 0.0001\nTrain Epoch: 48\t[82000/117711 (70%)]\tTotal Loss: 4.1485\tAvg Loss: 0.0001\nTrain Epoch: 48\t[83000/117711 (70%)]\tTotal Loss: 4.1941\tAvg Loss: 0.0001\nTrain Epoch: 48\t[84000/117711 (71%)]\tTotal Loss: 4.2432\tAvg Loss: 0.0001\nTrain Epoch: 48\t[85000/117711 (72%)]\tTotal Loss: 4.2988\tAvg Loss: 0.0001\nTrain Epoch: 48\t[86000/117711 (73%)]\tTotal Loss: 4.3482\tAvg Loss: 0.0001\nTrain Epoch: 48\t[87000/117711 (74%)]\tTotal Loss: 4.4014\tAvg Loss: 0.0001\nTrain Epoch: 48\t[88000/117711 (75%)]\tTotal Loss: 4.4484\tAvg Loss: 0.0001\nTrain Epoch: 48\t[89000/117711 (76%)]\tTotal Loss: 4.5020\tAvg Loss: 0.0001\nTrain Epoch: 48\t[90000/117711 (76%)]\tTotal Loss: 4.5541\tAvg Loss: 0.0001\nTrain Epoch: 48\t[91000/117711 (77%)]\tTotal Loss: 4.6036\tAvg Loss: 0.0001\nTrain Epoch: 48\t[92000/117711 (78%)]\tTotal Loss: 4.6608\tAvg Loss: 0.0001\nTrain Epoch: 48\t[93000/117711 (79%)]\tTotal Loss: 4.7254\tAvg Loss: 0.0001\nTrain Epoch: 48\t[94000/117711 (80%)]\tTotal Loss: 4.7826\tAvg Loss: 0.0001\nTrain Epoch: 48\t[95000/117711 (81%)]\tTotal Loss: 4.8303\tAvg Loss: 0.0001\nTrain Epoch: 48\t[96000/117711 (81%)]\tTotal Loss: 4.9263\tAvg Loss: 0.0001\nTrain Epoch: 48\t[97000/117711 (82%)]\tTotal Loss: 5.0250\tAvg Loss: 0.0001\nTrain Epoch: 48\t[98000/117711 (83%)]\tTotal Loss: 5.1193\tAvg Loss: 0.0001\nTrain Epoch: 48\t[99000/117711 (84%)]\tTotal Loss: 5.2377\tAvg Loss: 0.0001\nTrain Epoch: 48\t[100000/117711 (85%)]\tTotal Loss: 5.3838\tAvg Loss: 0.0001\nTrain Epoch: 48\t[101000/117711 (86%)]\tTotal Loss: 5.4868\tAvg Loss: 0.0001\nTrain Epoch: 48\t[102000/117711 (87%)]\tTotal Loss: 5.5861\tAvg Loss: 0.0001\nTrain Epoch: 48\t[103000/117711 (87%)]\tTotal Loss: 5.7340\tAvg Loss: 0.0001\nTrain Epoch: 48\t[104000/117711 (88%)]\tTotal Loss: 5.8655\tAvg Loss: 0.0001\nTrain Epoch: 48\t[105000/117711 (89%)]\tTotal Loss: 6.0157\tAvg Loss: 0.0001\nTrain Epoch: 48\t[106000/117711 (90%)]\tTotal Loss: 6.1747\tAvg Loss: 0.0001\nTrain Epoch: 48\t[107000/117711 (91%)]\tTotal Loss: 6.3222\tAvg Loss: 0.0001\nTrain Epoch: 48\t[108000/117711 (92%)]\tTotal Loss: 6.5915\tAvg Loss: 0.0001\nTrain Epoch: 48\t[109000/117711 (93%)]\tTotal Loss: 6.8071\tAvg Loss: 0.0001\nTrain Epoch: 48\t[110000/117711 (93%)]\tTotal Loss: 6.9815\tAvg Loss: 0.0001\nTrain Epoch: 48\t[111000/117711 (94%)]\tTotal Loss: 7.1251\tAvg Loss: 0.0001\nTrain Epoch: 48\t[112000/117711 (95%)]\tTotal Loss: 7.2759\tAvg Loss: 0.0001\nTrain Epoch: 48\t[113000/117711 (96%)]\tTotal Loss: 7.4292\tAvg Loss: 0.0001\nTrain Epoch: 48\t[114000/117711 (97%)]\tTotal Loss: 7.5856\tAvg Loss: 0.0001\nTrain Epoch: 48\t[115000/117711 (98%)]\tTotal Loss: 7.7886\tAvg Loss: 0.0001\nTrain Epoch: 48\t[116000/117711 (98%)]\tTotal Loss: 7.9111\tAvg Loss: 0.0001\nTrain Epoch: 48\t[117000/117711 (99%)]\tTotal Loss: 8.0610\tAvg Loss: 0.0001\n====> Epoch: 48\tTotal Loss: 8.1251\t Avg Loss: 0.0001\tCorrect: 58963/117711\tPercentage Correct: 50.09\n====> Val Loss: 2.1432\t Avg Loss: 0.0002\tCorrect: 4374/13079\tPercentage Correct: 33.44\n====> Test Loss: 5.3560\t Avg Loss: 0.0002\tCorrect: 10953/32698\tPercentage Correct: 33.50\nTrain Epoch: 49\t[1000/117711 (1%)]\tTotal Loss: 0.1119\tAvg Loss: 0.0001\nTrain Epoch: 49\t[2000/117711 (2%)]\tTotal Loss: 0.2238\tAvg Loss: 0.0001\nTrain Epoch: 49\t[3000/117711 (3%)]\tTotal Loss: 0.3152\tAvg Loss: 0.0001\nTrain Epoch: 49\t[4000/117711 (3%)]\tTotal Loss: 0.4221\tAvg Loss: 0.0001\nTrain Epoch: 49\t[5000/117711 (4%)]\tTotal Loss: 0.5080\tAvg Loss: 0.0001\nTrain Epoch: 49\t[6000/117711 (5%)]\tTotal Loss: 0.5877\tAvg Loss: 0.0001\nTrain Epoch: 49\t[7000/117711 (6%)]\tTotal Loss: 0.6586\tAvg Loss: 0.0001\nTrain Epoch: 49\t[8000/117711 (7%)]\tTotal Loss: 0.7246\tAvg Loss: 0.0001\nTrain Epoch: 49\t[9000/117711 (8%)]\tTotal Loss: 0.7957\tAvg Loss: 0.0001\nTrain Epoch: 49\t[10000/117711 (8%)]\tTotal Loss: 0.8691\tAvg Loss: 0.0001\nTrain Epoch: 49\t[11000/117711 (9%)]\tTotal Loss: 0.9283\tAvg Loss: 0.0001\nTrain Epoch: 49\t[12000/117711 (10%)]\tTotal Loss: 1.0037\tAvg Loss: 0.0001\nTrain Epoch: 49\t[13000/117711 (11%)]\tTotal Loss: 1.0790\tAvg Loss: 0.0001\nTrain Epoch: 49\t[14000/117711 (12%)]\tTotal Loss: 1.1505\tAvg Loss: 0.0001\nTrain Epoch: 49\t[15000/117711 (13%)]\tTotal Loss: 1.2226\tAvg Loss: 0.0001\nTrain Epoch: 49\t[16000/117711 (14%)]\tTotal Loss: 1.2841\tAvg Loss: 0.0001\nTrain Epoch: 49\t[17000/117711 (14%)]\tTotal Loss: 1.3979\tAvg Loss: 0.0001\nTrain Epoch: 49\t[18000/117711 (15%)]\tTotal Loss: 1.4980\tAvg Loss: 0.0001\nTrain Epoch: 49\t[19000/117711 (16%)]\tTotal Loss: 1.5833\tAvg Loss: 0.0001\nTrain Epoch: 49\t[20000/117711 (17%)]\tTotal Loss: 1.6552\tAvg Loss: 0.0001\nTrain Epoch: 49\t[21000/117711 (18%)]\tTotal Loss: 1.7156\tAvg Loss: 0.0001\nTrain Epoch: 49\t[22000/117711 (19%)]\tTotal Loss: 1.7871\tAvg Loss: 0.0001\nTrain Epoch: 49\t[23000/117711 (20%)]\tTotal Loss: 1.8527\tAvg Loss: 0.0001\nTrain Epoch: 49\t[24000/117711 (20%)]\tTotal Loss: 1.9092\tAvg Loss: 0.0001\nTrain Epoch: 49\t[25000/117711 (21%)]\tTotal Loss: 1.9702\tAvg Loss: 0.0001\nTrain Epoch: 49\t[26000/117711 (22%)]\tTotal Loss: 2.0176\tAvg Loss: 0.0001\nTrain Epoch: 49\t[27000/117711 (23%)]\tTotal Loss: 2.0778\tAvg Loss: 0.0001\nTrain Epoch: 49\t[28000/117711 (24%)]\tTotal Loss: 2.1289\tAvg Loss: 0.0001\nTrain Epoch: 49\t[29000/117711 (25%)]\tTotal Loss: 2.2097\tAvg Loss: 0.0001\nTrain Epoch: 49\t[30000/117711 (25%)]\tTotal Loss: 2.2770\tAvg Loss: 0.0001\nTrain Epoch: 49\t[31000/117711 (26%)]\tTotal Loss: 2.3372\tAvg Loss: 0.0001\nTrain Epoch: 49\t[32000/117711 (27%)]\tTotal Loss: 2.4019\tAvg Loss: 0.0001\nTrain Epoch: 49\t[33000/117711 (28%)]\tTotal Loss: 2.4583\tAvg Loss: 0.0001\nTrain Epoch: 49\t[34000/117711 (29%)]\tTotal Loss: 2.5201\tAvg Loss: 0.0001\nTrain Epoch: 49\t[35000/117711 (30%)]\tTotal Loss: 2.5735\tAvg Loss: 0.0001\nTrain Epoch: 49\t[36000/117711 (31%)]\tTotal Loss: 2.6244\tAvg Loss: 0.0001\nTrain Epoch: 49\t[37000/117711 (31%)]\tTotal Loss: 2.6848\tAvg Loss: 0.0001\nTrain Epoch: 49\t[38000/117711 (32%)]\tTotal Loss: 2.7508\tAvg Loss: 0.0001\nTrain Epoch: 49\t[39000/117711 (33%)]\tTotal Loss: 2.8096\tAvg Loss: 0.0001\nTrain Epoch: 49\t[40000/117711 (34%)]\tTotal Loss: 2.8826\tAvg Loss: 0.0001\nTrain Epoch: 49\t[41000/117711 (35%)]\tTotal Loss: 2.9545\tAvg Loss: 0.0001\nTrain Epoch: 49\t[42000/117711 (36%)]\tTotal Loss: 3.0133\tAvg Loss: 0.0001\nTrain Epoch: 49\t[43000/117711 (37%)]\tTotal Loss: 3.0634\tAvg Loss: 0.0001\nTrain Epoch: 49\t[44000/117711 (37%)]\tTotal Loss: 3.1172\tAvg Loss: 0.0001\nTrain Epoch: 49\t[45000/117711 (38%)]\tTotal Loss: 3.1702\tAvg Loss: 0.0001\nTrain Epoch: 49\t[46000/117711 (39%)]\tTotal Loss: 3.2259\tAvg Loss: 0.0001\nTrain Epoch: 49\t[47000/117711 (40%)]\tTotal Loss: 3.2744\tAvg Loss: 0.0001\nTrain Epoch: 49\t[48000/117711 (41%)]\tTotal Loss: 3.3160\tAvg Loss: 0.0001\nTrain Epoch: 49\t[49000/117711 (42%)]\tTotal Loss: 3.3677\tAvg Loss: 0.0001\nTrain Epoch: 49\t[50000/117711 (42%)]\tTotal Loss: 3.4215\tAvg Loss: 0.0001\nTrain Epoch: 49\t[51000/117711 (43%)]\tTotal Loss: 3.4743\tAvg Loss: 0.0001\nTrain Epoch: 49\t[52000/117711 (44%)]\tTotal Loss: 3.5299\tAvg Loss: 0.0001\nTrain Epoch: 49\t[53000/117711 (45%)]\tTotal Loss: 3.5771\tAvg Loss: 0.0001\nTrain Epoch: 49\t[54000/117711 (46%)]\tTotal Loss: 3.6238\tAvg Loss: 0.0001\nTrain Epoch: 49\t[55000/117711 (47%)]\tTotal Loss: 3.6681\tAvg Loss: 0.0001\nTrain Epoch: 49\t[56000/117711 (48%)]\tTotal Loss: 3.7201\tAvg Loss: 0.0001\nTrain Epoch: 49\t[57000/117711 (48%)]\tTotal Loss: 3.7713\tAvg Loss: 0.0001\nTrain Epoch: 49\t[58000/117711 (49%)]\tTotal Loss: 3.8253\tAvg Loss: 0.0001\nTrain Epoch: 49\t[59000/117711 (50%)]\tTotal Loss: 3.8708\tAvg Loss: 0.0001\nTrain Epoch: 49\t[60000/117711 (51%)]\tTotal Loss: 3.9290\tAvg Loss: 0.0001\nTrain Epoch: 49\t[61000/117711 (52%)]\tTotal Loss: 3.9787\tAvg Loss: 0.0001\nTrain Epoch: 49\t[62000/117711 (53%)]\tTotal Loss: 4.0254\tAvg Loss: 0.0001\nTrain Epoch: 49\t[63000/117711 (53%)]\tTotal Loss: 4.0698\tAvg Loss: 0.0001\nTrain Epoch: 49\t[64000/117711 (54%)]\tTotal Loss: 4.1256\tAvg Loss: 0.0001\nTrain Epoch: 49\t[65000/117711 (55%)]\tTotal Loss: 4.1722\tAvg Loss: 0.0001\nTrain Epoch: 49\t[66000/117711 (56%)]\tTotal Loss: 4.2164\tAvg Loss: 0.0001\nTrain Epoch: 49\t[67000/117711 (57%)]\tTotal Loss: 4.2729\tAvg Loss: 0.0001\nTrain Epoch: 49\t[68000/117711 (58%)]\tTotal Loss: 4.3263\tAvg Loss: 0.0001\nTrain Epoch: 49\t[69000/117711 (59%)]\tTotal Loss: 4.3764\tAvg Loss: 0.0001\nTrain Epoch: 49\t[70000/117711 (59%)]\tTotal Loss: 4.4289\tAvg Loss: 0.0001\nTrain Epoch: 49\t[71000/117711 (60%)]\tTotal Loss: 4.4779\tAvg Loss: 0.0001\nTrain Epoch: 49\t[72000/117711 (61%)]\tTotal Loss: 4.5301\tAvg Loss: 0.0001\nTrain Epoch: 49\t[73000/117711 (62%)]\tTotal Loss: 4.5729\tAvg Loss: 0.0001\nTrain Epoch: 49\t[74000/117711 (63%)]\tTotal Loss: 4.6206\tAvg Loss: 0.0001\nTrain Epoch: 49\t[75000/117711 (64%)]\tTotal Loss: 4.6683\tAvg Loss: 0.0001\nTrain Epoch: 49\t[76000/117711 (65%)]\tTotal Loss: 4.7154\tAvg Loss: 0.0001\nTrain Epoch: 49\t[77000/117711 (65%)]\tTotal Loss: 4.7610\tAvg Loss: 0.0001\nTrain Epoch: 49\t[78000/117711 (66%)]\tTotal Loss: 4.8171\tAvg Loss: 0.0001\nTrain Epoch: 49\t[79000/117711 (67%)]\tTotal Loss: 4.8741\tAvg Loss: 0.0001\nTrain Epoch: 49\t[80000/117711 (68%)]\tTotal Loss: 4.9206\tAvg Loss: 0.0001\nTrain Epoch: 49\t[81000/117711 (69%)]\tTotal Loss: 4.9729\tAvg Loss: 0.0001\nTrain Epoch: 49\t[82000/117711 (70%)]\tTotal Loss: 5.0287\tAvg Loss: 0.0001\nTrain Epoch: 49\t[83000/117711 (70%)]\tTotal Loss: 5.0891\tAvg Loss: 0.0001\nTrain Epoch: 49\t[84000/117711 (71%)]\tTotal Loss: 5.1388\tAvg Loss: 0.0001\nTrain Epoch: 49\t[85000/117711 (72%)]\tTotal Loss: 5.1857\tAvg Loss: 0.0001\nTrain Epoch: 49\t[86000/117711 (73%)]\tTotal Loss: 5.2305\tAvg Loss: 0.0001\nTrain Epoch: 49\t[87000/117711 (74%)]\tTotal Loss: 5.2713\tAvg Loss: 0.0001\nTrain Epoch: 49\t[88000/117711 (75%)]\tTotal Loss: 5.3227\tAvg Loss: 0.0001\nTrain Epoch: 49\t[89000/117711 (76%)]\tTotal Loss: 5.3730\tAvg Loss: 0.0001\nTrain Epoch: 49\t[90000/117711 (76%)]\tTotal Loss: 5.4285\tAvg Loss: 0.0001\nTrain Epoch: 49\t[91000/117711 (77%)]\tTotal Loss: 5.4854\tAvg Loss: 0.0001\nTrain Epoch: 49\t[92000/117711 (78%)]\tTotal Loss: 5.5343\tAvg Loss: 0.0001\nTrain Epoch: 49\t[93000/117711 (79%)]\tTotal Loss: 5.5843\tAvg Loss: 0.0001\nTrain Epoch: 49\t[94000/117711 (80%)]\tTotal Loss: 5.6367\tAvg Loss: 0.0001\nTrain Epoch: 49\t[95000/117711 (81%)]\tTotal Loss: 5.6987\tAvg Loss: 0.0001\nTrain Epoch: 49\t[96000/117711 (81%)]\tTotal Loss: 5.7456\tAvg Loss: 0.0001\nTrain Epoch: 49\t[97000/117711 (82%)]\tTotal Loss: 5.7916\tAvg Loss: 0.0001\nTrain Epoch: 49\t[98000/117711 (83%)]\tTotal Loss: 5.8377\tAvg Loss: 0.0001\nTrain Epoch: 49\t[99000/117711 (84%)]\tTotal Loss: 5.8898\tAvg Loss: 0.0001\nTrain Epoch: 49\t[100000/117711 (85%)]\tTotal Loss: 5.9375\tAvg Loss: 0.0001\nTrain Epoch: 49\t[101000/117711 (86%)]\tTotal Loss: 5.9848\tAvg Loss: 0.0001\nTrain Epoch: 49\t[102000/117711 (87%)]\tTotal Loss: 6.0350\tAvg Loss: 0.0001\nTrain Epoch: 49\t[103000/117711 (87%)]\tTotal Loss: 6.0861\tAvg Loss: 0.0001\nTrain Epoch: 49\t[104000/117711 (88%)]\tTotal Loss: 6.1291\tAvg Loss: 0.0001\nTrain Epoch: 49\t[105000/117711 (89%)]\tTotal Loss: 6.1755\tAvg Loss: 0.0001\nTrain Epoch: 49\t[106000/117711 (90%)]\tTotal Loss: 6.2239\tAvg Loss: 0.0001\nTrain Epoch: 49\t[107000/117711 (91%)]\tTotal Loss: 6.2685\tAvg Loss: 0.0001\nTrain Epoch: 49\t[108000/117711 (92%)]\tTotal Loss: 6.3135\tAvg Loss: 0.0001\nTrain Epoch: 49\t[109000/117711 (93%)]\tTotal Loss: 6.3685\tAvg Loss: 0.0001\nTrain Epoch: 49\t[110000/117711 (93%)]\tTotal Loss: 6.4131\tAvg Loss: 0.0001\nTrain Epoch: 49\t[111000/117711 (94%)]\tTotal Loss: 6.4582\tAvg Loss: 0.0001\nTrain Epoch: 49\t[112000/117711 (95%)]\tTotal Loss: 6.5067\tAvg Loss: 0.0001\nTrain Epoch: 49\t[113000/117711 (96%)]\tTotal Loss: 6.5508\tAvg Loss: 0.0001\nTrain Epoch: 49\t[114000/117711 (97%)]\tTotal Loss: 6.5997\tAvg Loss: 0.0001\nTrain Epoch: 49\t[115000/117711 (98%)]\tTotal Loss: 6.6431\tAvg Loss: 0.0001\nTrain Epoch: 49\t[116000/117711 (98%)]\tTotal Loss: 6.7001\tAvg Loss: 0.0001\nTrain Epoch: 49\t[117000/117711 (99%)]\tTotal Loss: 6.7601\tAvg Loss: 0.0001\n====> Epoch: 49\tTotal Loss: 6.7985\t Avg Loss: 0.0001\tCorrect: 60400/117711\tPercentage Correct: 51.31\n====> Val Loss: 1.3388\t Avg Loss: 0.0001\tCorrect: 6152/13079\tPercentage Correct: 47.04\n====> Test Loss: 3.2696\t Avg Loss: 0.0001\tCorrect: 15336/32698\tPercentage Correct: 46.90\nTraining time: 43482.94045996666s\n"
    }
   ],
   "source": [
    "# TRAIN and TEST SetNet OVER MULTIPLE EPOCHS\n",
    "train_set_size = len(split.train_sampler)\n",
    "val_set_size = len(split.val_sampler)\n",
    "test_set_size = len(split.test_sampler)\n",
    "\n",
    "all_train_losses, all_val_losses, all_test_losses = [],[],[]\n",
    "all_train_correct, all_val_correct, all_test_correct = [],[],[]\n",
    "all_train_results, all_val_results, all_test_results = [],[],[]\n",
    "\n",
    "start = time.time()\n",
    "\n",
    "for epoch in range(50):\n",
    "    train_loss, train_correct, train_results = trainer.train_settings_net(\n",
    "        model=setnet,\n",
    "        optimizer=optimizer_setnet, \n",
    "        train_loader=train_loader, \n",
    "        train_sampler=split.train_sampler, \n",
    "        epoch=epoch,\n",
    "        loss_function=loss_func_setnet, \n",
    "        device=device\n",
    "    )\n",
    "    \n",
    "    val_loss, val_correct, val_results = trainer.val_settings_net(\n",
    "        model=setnet, \n",
    "        val_loader=val_loader, \n",
    "        val_sampler=split.val_sampler,\n",
    "        loss_function=loss_func_setnet,\n",
    "        device=device\n",
    "    )\n",
    "    \n",
    "    test_loss, test_correct, test_results = trainer.test_settings_net(\n",
    "        model=setnet, \n",
    "        test_loader=test_loader, \n",
    "        test_sampler=split.test_sampler,\n",
    "        loss_function=loss_func_setnet,\n",
    "        device=device\n",
    "    )\n",
    "    \n",
    "    all_train_losses.append(train_loss)\n",
    "    all_val_losses.append(val_loss)\n",
    "    all_test_losses.append(test_loss)\n",
    "    \n",
    "    all_train_correct.append(train_correct)\n",
    "    all_val_correct.append(val_correct)\n",
    "    all_test_correct.append(test_correct)\n",
    "    \n",
    "    all_train_results.append(train_results)\n",
    "    all_val_results.append(val_results)\n",
    "    all_test_results.append(test_results)\n",
    "\n",
    "stop = time.time()\n",
    "print(f\"Training time: {stop - start}s\")"
   ]
  },
  {
   "cell_type": "code",
   "execution_count": 12,
   "metadata": {},
   "outputs": [],
   "source": [
    "# SAVE\n",
    "models_folder = 'saved_models'\n",
    "model_name = '20200921_setnet'\n",
    "results_folder = 'saved_results'"
   ]
  },
  {
   "cell_type": "code",
   "execution_count": 13,
   "metadata": {},
   "outputs": [],
   "source": [
    "# SAVE MODEL\n",
    "torch.save(setnet, '%s/%s' % (models_folder, model_name))"
   ]
  },
  {
   "cell_type": "code",
   "execution_count": 15,
   "metadata": {},
   "outputs": [],
   "source": [
    "# SAVE RESULTS\n",
    "all_train_losses_npy = np.array(all_train_losses)\n",
    "all_train_correct_npy = np.array(all_train_correct)\n",
    "all_train_results_npy = np.array(all_train_results)\n",
    "\n",
    "all_val_losses_npy = np.array(all_val_losses)\n",
    "all_val_correct_npy = np.array(all_val_correct)\n",
    "all_val_results_npy = np.array(all_val_results)\n",
    "\n",
    "all_test_losses_npy = np.array(all_test_losses)\n",
    "all_test_correct_npy = np.array(all_test_correct)\n",
    "all_test_results_npy = np.array(all_test_results)\n",
    "\n",
    "fx_labels_npy = np.array(list(dataset.fx_to_label.keys()))\n",
    "\n",
    "np.save(file=('%s/%s/%s' % (results_folder, model_name, 'all_train_losses')), arr=all_train_losses_npy)\n",
    "np.save(file=('%s/%s/%s' % (results_folder, model_name, 'all_train_correct')), arr=all_train_correct_npy)\n",
    "np.save(file=('%s/%s/%s' % (results_folder, model_name, 'all_train_results')), arr=all_train_results_npy)\n",
    "\n",
    "np.save(file=('%s/%s/%s' % (results_folder, model_name, 'all_val_losses')), arr=all_val_losses_npy)\n",
    "np.save(file=('%s/%s/%s' % (results_folder, model_name, 'all_val_correct')), arr=all_val_correct_npy)\n",
    "np.save(file=('%s/%s/%s' % (results_folder, model_name, 'all_val_results')), arr=all_val_results_npy)\n",
    "\n",
    "np.save(file=('%s/%s/%s' % (results_folder, model_name, 'all_test_losses')), arr=all_test_losses_npy)\n",
    "np.save(file=('%s/%s/%s' % (results_folder, model_name, 'all_test_correct')), arr=all_test_correct_npy)\n",
    "np.save(file=('%s/%s/%s' % (results_folder, model_name, 'all_test_results')), arr=all_test_results_npy)\n",
    "\n",
    "np.save(file=('%s/%s/%s' % (results_folder, model_name, 'fx_labels')), arr=fx_labels_npy)"
   ]
  },
  {
   "cell_type": "code",
   "execution_count": null,
   "metadata": {},
   "outputs": [],
   "source": []
  }
 ],
 "metadata": {
  "kernelspec": {
   "display_name": "Python 3.8.5 64-bit ('venv': venv)",
   "language": "python",
   "name": "python_defaultSpec_1600712734457"
  },
  "language_info": {
   "codemirror_mode": {
    "name": "ipython",
    "version": 3
   },
   "file_extension": ".py",
   "mimetype": "text/x-python",
   "name": "python",
   "nbconvert_exporter": "python",
   "pygments_lexer": "ipython3",
   "version": "3.8.5-final"
  }
 },
 "nbformat": 4,
 "nbformat_minor": 4
}